{
 "cells": [
  {
   "cell_type": "markdown",
   "metadata": {},
   "source": [
    "**Guión:**\n",
    "1. Introducir el concepto de similaridad y su complementario (matemático), la distancia.\n",
    "2. Ejempo con proporciones de la lista de la compra.\n",
    "3. Sorpresa, multipicar las proporciones es lo que llamamos producto escalar dividigo por la magnitud o norma de los vectores, que a su vez llamamos similaridad de coseno.\n",
    "4. Explicación teórico de similaridad de coseno. Conseguir visualización y explicar cómo el ángulo expresa la similaridad.\n",
    "5. Recap. Una vez tenemos la smilaridad de coseno entre 1 y -1, y siendo un producto escalar de vetores unitarios, la cual es una operación muy rápida de calcular. Podemos usarla en infinidad de aplicaciones en IA.\n",
    "6. Ejemplos de apicación de similaridad de coseno tanto en casos reales finales (e.g. retrieval de texto RAG, sistemas de recomendación clásicos), como en el core de los algorítmos más potentes de IA como los transformers (explicar ligeramente cómo se usa en KQV propio de Gemini o GPT).\n",
    "\n",
    "**Referencias:**\n",
    "- https://chatgpt.com/c/17819c9e-eab8-45a1-88b9-1bad3faf482d\n",
    "- https://chatgpt.com/c/ac8b7272-66a3-4af8-8421-946dad372926\n",
    "\n",
    "**Intro:**\n",
    "Muy buenas. ¿Alguna vez te has parado a pensar que como podemos medir cuánto parece una cosa a otra? y si superiamos cómo medirlo, ¿nos serviría de algo?\n",
    "\n",
    "En el video de hoy vamos a responder a estas preguntas y a desubrir uno de los conceptosmás importantes de las matemáticas que, además, podemos encontrar en lo más profundo de los últimos avanzes en inteligencia artificial y modelos de lenguaje como ChatGPT.\n",
    "\n",
    "Mi nombre es Aitor, bienvenida, bienvenido, esto es Garaje Data Pills."
   ]
  },
  {
   "cell_type": "markdown",
   "metadata": {},
   "source": [
    "# Busca las 7 diferencias"
   ]
  },
  {
   "cell_type": "markdown",
   "metadata": {},
   "source": [
    "**¿Qué 7 diferencias encuentras en estas imágenes?**\n",
    "\n",
    "![7 diferencias](../data/img/7_diferencias.jpeg)"
   ]
  },
  {
   "cell_type": "markdown",
   "metadata": {},
   "source": [
    "Intenta pensar, con tus palabras, como explicarías lo similares que son estas fotos."
   ]
  },
  {
   "cell_type": "markdown",
   "metadata": {},
   "source": [
    "**¿Qué diferencias encuentras entre estos dos textos?**\n",
    "\n",
    "**Texto 1:**   \n",
    "*El sol brilla intensamente en el cielo azul, mientras los pájaros cantan alegres en las ramas de los árboles frondosos. Un niño corre por el prado verde, persiguiendo a una mariposa colorida que vuela entre las flores. Cerca del estanque, una familia disfruta de un picnic, con una manta roja extendida sobre la hierba.*\n",
    "\n",
    "**Texto 2:**   \n",
    "*El sol brilla débilmente en el cielo gris, mientras los pájaros vuelan silenciosos en las ramas de los árboles desnudos. Una niña camina por el prado seco, buscando a una mariposa blanca que descansa entre las flores. Cerca del lago, una pareja disfruta de un picnic, con una manta azul extendida sobre la tierra.*"
   ]
  },
  {
   "cell_type": "markdown",
   "metadata": {},
   "source": [
    "En este caso, ¿cómo explicarías la similaridad entre los textos?"
   ]
  },
  {
   "cell_type": "markdown",
   "metadata": {},
   "source": [
    "**Ahora con música, ¿qué diferencias encuentras entre estas dos canciones?**\n",
    "\n",
    "**Canción 1:**   \n",
    "[Sam Smith - Stay With Me (Official Music Video)](https://www.youtube.com/watch?v=pB-5XG-DbAA)\n",
    "\n",
    "\n",
    "**Canción 2:**   \n",
    "[Tom Petty And The Heartbreakers - I Won't Back Down (Official Music Video)](https://www.youtube.com/watch?v=nvlTJrNJ5lA)\n"
   ]
  },
  {
   "cell_type": "markdown",
   "metadata": {},
   "source": [
    "Cómo explicarias la similaridad de estas canciones, ¿dificil no?"
   ]
  },
  {
   "cell_type": "markdown",
   "metadata": {},
   "source": [
    "Al intentar buscar las diferencias entre las imágenes, textos o canciones y luego intentar razonar sobre la similaridad entre ellos, no habremos dado cuenta de que estamos hablando de dos conceptos matemáticos complementarios: **la similaridad y la distancia.**"
   ]
  },
  {
   "cell_type": "markdown",
   "metadata": {},
   "source": [
    "# Distancia "
   ]
  },
  {
   "cell_type": "markdown",
   "metadata": {},
   "source": [
    "Para entender los conceptos de similaridad y distancia de forma intuitiva, vamos a usar un ejemplo muy sencillo: la lista de la compra.\n",
    "\n",
    "Imagina que quieres averiguar qué lista de la compra de tu grupo de amigos es más parecida a la tuya. Veamos las listas de la compra de tus amigos y la tuya:\n",
    "\n",
    "tu lista de la compra: 5 manzanas, 7 plátanos y 2 zanahorias   \n",
    "lista de paco: 3 manzanas, 2 platanos y 5 zanahorias   \n",
    "lista de carla: 9 manzanas, 3 platanos y 6 zanahorias   "
   ]
  },
  {
   "cell_type": "code",
   "execution_count": 27,
   "metadata": {},
   "outputs": [],
   "source": [
    "import numpy as np\n",
    "# Expresamos la lista de la compra como una lista cuyos elementos son los productos. Corresponden de forma ordenada con [manzanas, plátanos, zanahorias].\n",
    "tu_lista = np.array([5, 7, 2])\n",
    "paco_lista = np.array([3, 2, 5])\n",
    "carla_lista = np.array([12, 6, 10])"
   ]
  },
  {
   "cell_type": "markdown",
   "metadata": {},
   "source": [
    "Para calcular de forma matemática, a cual se parece más tu lista de la compra, la respuesta más sencilla sería encontrar quien tiene menos cantidad de productos diferentes. Para clacular esto, podemos simplemente restar las cantidades de cada producto respectivamente, y sumar el valor absoluto de los resultados."
   ]
  },
  {
   "cell_type": "code",
   "execution_count": 9,
   "metadata": {},
   "outputs": [
    {
     "name": "stdout",
     "output_type": "stream",
     "text": [
      "La diferencia con Paco es de 10 productos y con Carla es de 16 productos.\n"
     ]
    }
   ],
   "source": [
    "diferencia_con_paco = np.abs(tu_lista - paco_lista).sum()\n",
    "diferencia_con_carla = np.abs(tu_lista - carla_lista).sum()\n",
    "print(f\"La diferencia con Paco es de {diferencia_con_paco} productos y con Carla es de {diferencia_con_carla} productos.\")"
   ]
  },
  {
   "cell_type": "markdown",
   "metadata": {},
   "source": [
    "Aquí hay un problema que no había mencionado, y es que mientras que paco vive solo y compra para él solo, carla vive en un piso compartido y compra para todos, pero no recuerdo exactamente cuántos son. Para hacer una comparación justa, deberíamos normalizar las cantidades de cada producto por el número de personas que compran, aunque también habría que tener en cuenta que paco está haciendo dieta y ahora come menos cantidad en general. \n",
    "\n",
    "Como no sabemos bien las condiciones particules de cada uno, lo que podemos hacer es normalizar las cantidades de cada producto por la suma total de productos de cada lista. De esta forma, obtenemos las proporciones de cada producto en cada lista."
   ]
  },
  {
   "cell_type": "code",
   "execution_count": 21,
   "metadata": {},
   "outputs": [
    {
     "name": "stdout",
     "output_type": "stream",
     "text": [
      "Tu lista\n",
      "manzana: 35.71%\n",
      "plátanos: 50.00%\n",
      "zanahorias: 14.29%\n",
      "\n",
      "Lista de Paco\n",
      "manzana: 30.00%\n",
      "plátanos: 20.00%\n",
      "zanahorias: 50.00%\n",
      "\n",
      "Lista de Carla\n",
      "manzana: 42.86%\n",
      "plátanos: 21.43%\n",
      "zanahorias: 35.71%\n"
     ]
    }
   ],
   "source": [
    "# Normalizar las listas\n",
    "tu_lista_normalizada = tu_lista / tu_lista.sum()\n",
    "paco_lista_normalizada = paco_lista / paco_lista.sum()\n",
    "carla_lista_normalizada = carla_lista / carla_lista.sum()\n",
    "\n",
    "# Mostrar las listas normalizadas formateando cada elemento como porcentajes\n",
    "etiquetas = [\"manzana\", \"plátanos\", \"zanahorias\"]\n",
    "print(\"Tu lista\\n\"+\"\\n\".join([f\"{etiqueta}: {valor:.2%}\" for etiqueta, valor in zip(etiquetas, tu_lista_normalizada)]))\n",
    "print(\"\\nLista de Paco\\n\"+\"\\n\".join([f\"{etiqueta}: {valor:.2%}\" for etiqueta, valor in zip(etiquetas, paco_lista_normalizada)]))\n",
    "print(\"\\nLista de Carla\\n\"+\"\\n\".join([f\"{etiqueta}: {valor:.2%}\" for etiqueta, valor in zip(etiquetas, carla_lista_normalizada)]))"
   ]
  },
  {
   "cell_type": "markdown",
   "metadata": {},
   "source": [
    "Con las listas normalizadas, podemos volver a calcular las distancias entre ellas."
   ]
  },
  {
   "cell_type": "code",
   "execution_count": 24,
   "metadata": {},
   "outputs": [
    {
     "name": "stdout",
     "output_type": "stream",
     "text": [
      "La diferencia con Paco es del 71.43% y con Carla es del 57.14% productos.\n"
     ]
    }
   ],
   "source": [
    "diferencia_normalizada_con_paco = np.abs(tu_lista_normalizada - paco_lista_normalizada).sum()\n",
    "diferencia_normalizada_con_carla = np.abs(tu_lista_normalizada - carla_lista_normalizada).sum()\n",
    "print(f\"La diferencia con Paco es del {diferencia_normalizada_con_paco:.2%} y con Carla es del {diferencia_normalizada_con_carla:.2%} productos.\")"
   ]
  },
  {
   "cell_type": "markdown",
   "metadata": {},
   "source": [
    "Vaya, resulta que en realidad los gustos de Carla son mucho más parecidos a los tuyos de lo que pensabamos. La magnitud de las listas nos estaba engañando.\n",
    "\n",
    "Este es un problema muy habitual a la hora de calcular distancias, y es que las magnitudes pequeñas tienen a estar más cerca que magnitudes más grandes (lógicamente). Normalizar los datos es imprescindible para comparar correctamente."
   ]
  },
  {
   "cell_type": "markdown",
   "metadata": {},
   "source": [
    "Esta operación intuitiva que hemos hecho para calcular la diferencia (resta) directa entre las listas de elementos es lo que llamamos Distancia de **Manhattan**:\n",
    "\n",
    " $  D_{\\text{Manhattan}} = \\sum_{i=1}^{n} |a_i - b_i|  $\n",
    "\n",
    " Se llama así porque si lo visualizaramos en un plano 2D sería como ir de una esquina de las típicas manzanas de Manhattan a la esquina opuesta, moviéndote solo en horizontal y vertical.\n",
    "\n",
    " El tipo de distancia más común es la **Euclideana**, que es la distancia en línea recta entre dos puntos:\n",
    " \n",
    "$ D_{\\text{Euclideana}} = \\sqrt{\\sum_{i=1}^{n} (a_i - b_i)^2}  $\n",
    "\n",
    " En el ejemplo anterior de la manzana de Manhattan sería como atravesar el edificio en diagonal."
   ]
  },
  {
   "cell_type": "markdown",
   "metadata": {},
   "source": [
    "![Distancias](../data/img/distancias.png)"
   ]
  },
  {
   "cell_type": "markdown",
   "metadata": {},
   "source": [
    "Con esta formulación matemática, podríamos calcular la distancia entre distintos vectores de cualquier número de dimensiones (en nuestro ejemplo las dimensiones eran los productos de la cesta de la compra).\n",
    "\n",
    "Es relativamente sencillo e intuitivo, pero tiene un problema, y es que, como hemos visto en el ejemplo, no tiene en cuenta la dirección de los vectores, solo la magnitud. Si no hubieramos normalizado, nos habríamos equivocado al comparar las listas de la compra.\n",
    "\n",
    "Pero, un momento. Si antes hemos dicho que la distancia es el complementario de la similaridad, ¿cómo podemos medir la similaridad entre dos vectores?"
   ]
  },
  {
   "cell_type": "markdown",
   "metadata": {},
   "source": [
    "# Similaridad"
   ]
  },
  {
   "cell_type": "markdown",
   "metadata": {},
   "source": [
    "Vamos a dar un paso para atrás y utilizando el mismo ejempo de la lista de la compra pero esta vez el número de productos tiene que ser 0 o 1."
   ]
  },
  {
   "cell_type": "code",
   "execution_count": 26,
   "metadata": {},
   "outputs": [],
   "source": [
    "tu_lista_binaria = np.array([1, 1, 1])\n",
    "paco_lista_binaria = np.array([0, 1, 0])\n",
    "carla_lista_binaria = np.array([1, 0, 1])"
   ]
  },
  {
   "cell_type": "markdown",
   "metadata": {},
   "source": [
    "Si calcularamos la distancia como antes, obtendriamos:"
   ]
  },
  {
   "cell_type": "code",
   "execution_count": 29,
   "metadata": {},
   "outputs": [
    {
     "name": "stdout",
     "output_type": "stream",
     "text": [
      "La diferencia con Paco es de 2 productos y con Carla es de 1 producto.\n"
     ]
    }
   ],
   "source": [
    "diferencia_binaria_paco = np.abs(tu_lista_binaria - paco_lista_binaria).sum()\n",
    "diferencia_binaria_carla = np.abs(tu_lista_binaria - carla_lista_binaria).sum()\n",
    "print(f\"La diferencia con Paco es de {diferencia_binaria_paco} productos y con Carla es de {diferencia_binaria_carla} producto.\")"
   ]
  },
  {
   "cell_type": "markdown",
   "metadata": {},
   "source": [
    "Puede parecer un ejemplo demasiado sencillo, pero nos va a ayudar a entender la similaridad. Se te ocurre como, en base a este ejemplo, podríamos sacar un número que indicase que la lista de Carla es más parecida a la tuya que la de Paco? Es decir, obtener una métrica cuyo resultado sea mayor al operar con la lista de Carla que con la de Paco."
   ]
  },
  {
   "cell_type": "code",
   "execution_count": 35,
   "metadata": {},
   "outputs": [
    {
     "data": {
      "text/plain": [
       "1"
      ]
     },
     "execution_count": 35,
     "metadata": {},
     "output_type": "execute_result"
    }
   ],
   "source": [
    "(tu_lista_binaria * paco_lista_binaria).sum()"
   ]
  },
  {
   "cell_type": "code",
   "execution_count": 36,
   "metadata": {},
   "outputs": [
    {
     "name": "stdout",
     "output_type": "stream",
     "text": [
      "La similaridad con Paco es de 1 producto y con Carla es de 2 productos.\n"
     ]
    }
   ],
   "source": [
    "similaritidad_paco = (tu_lista_binaria * paco_lista_binaria).sum()\n",
    "similaritidad_carla = (tu_lista_binaria * carla_lista_binaria).sum()\n",
    "print(f\"La similaridad con Paco es de {similaritidad_paco} producto y con Carla es de {similaritidad_carla} productos.\")"
   ]
  },
  {
   "cell_type": "markdown",
   "metadata": {},
   "source": [
    "Voilà! Acabamos de descubrir que para expresar la similaridad entre dos vectores, podemos multiplicarlos elemento a elemento y luego sumarlos. A esta operación se le llama **producto escalar** (dot product en inglés) y se representa con un punto entre los vectores:\n",
    "\n",
    "$  a \\cdot b = \\sum_{i=1}^{n} a_i \\cdot b_i  $"
   ]
  },
  {
   "cell_type": "markdown",
   "metadata": {},
   "source": [
    "Sin embargo, al simplificar el ejemplo y convertirlo en binario, hemos perdido la magnitud de los vectores y eso nos ha permitido calcular la similaridad correctamente, si no habríamos tenido el mismo problema de magnitud que con la distancia. Para el ejemplo real, bastaría con normalizar los vectores antes de calcular el producto escalar. Obtenemos el **producto escalar normalizado**:\n",
    "\n",
    "$ a \\cdot b = \\sum_{i=1}^{n} \\frac{a_i}{||a||} \\cdot \\frac{b_i}{||b||}  $\n",
    "\n",
    "En este caso, lo que estamos haciendo es el producto escalar de dos vectores unitarios. Siendo el vector unitario:\n",
    "\n",
    "$ \\hat{a} = \\frac{a}{||a||} $\n",
    "\n",
    "La propiedad del vector unitario es que su magnitud es 1. Traducido a un plano de dos dimensiones, sería hacer un triángulo rectángulo con la hipotenusa de longitud 1. Si volvemos a ver la imágen de antes y recordamos como hemos normalizado la distancia podemos decir que el vector unitario es la forma que tenemos de normalizar cuando estamos calculando distnacias euclidianas, mientras que dividir entre la suma de los elementos del vector es la equivalente a normalizar cuando estamos calculando distnacias de manhattan.\n",
    "\n",
    "![Distancias](../data/img/distancias.png)"
   ]
  },
  {
   "cell_type": "code",
   "execution_count": 41,
   "metadata": {},
   "outputs": [
    {
     "name": "stdout",
     "output_type": "stream",
     "text": [
      "La similaridad con Paco es del 71.64% de productos y con Carla es del 82.55% productos.\n"
     ]
    }
   ],
   "source": [
    "similaritidad_paco = np.dot(tu_lista/np.linalg.norm(tu_lista), paco_lista/np.linalg.norm(paco_lista))\n",
    "similaritidad_carla = np.dot(tu_lista/np.linalg.norm(tu_lista), carla_lista/np.linalg.norm(carla_lista))\n",
    "print(f\"La similaridad con Paco es del {similaritidad_paco:.2%} de productos y con Carla es del {similaritidad_carla:.2%} productos.\")"
   ]
  },
  {
   "cell_type": "markdown",
   "metadata": {},
   "source": [
    "Genial, además coincide con la conclusión a la que llegamos antes cuando hemos calculado las distancias. Nuestra lista de la compra es más parecida a la de Carla que a la de Paco."
   ]
  },
  {
   "cell_type": "markdown",
   "metadata": {},
   "source": [
    "Pues ya estaría, ya sabéis todo lo necesario sobre similaridad y distancia. O no... 😈"
   ]
  },
  {
   "cell_type": "markdown",
   "metadata": {},
   "source": [
    "# Similaridad de coseno"
   ]
  },
  {
   "cell_type": "markdown",
   "metadata": {},
   "source": [
    "Resulta que antes te he mentido, perdón :D\n",
    "\n",
    "En realidad lo que antes he llamado producto escalar normalizado, en realidad se llama **similaridad de coseno** y esta es su formula:\n",
    "\n",
    "$ \\cos(\\theta) = \\frac{a \\cdot b}{||a|| \\cdot ||b||} $"
   ]
  },
  {
   "cell_type": "markdown",
   "metadata": {},
   "source": [
    "Ahora estarás pensando \"WTF, en qué momento ha aparecido un angulo y una función trigonométrica en todo esto?\". Te entiendo, así que voy a intentar explicarlo de forma sencilla con esta imágen:\n",
    "\n",
    "![Similaridad de coseno](../data/img/cosine_similarity.jpeg)"
   ]
  },
  {
   "cell_type": "markdown",
   "metadata": {},
   "source": [
    "Imagina que los vectores X e Y son nuestras listas de la compra. En cada uno de los casos estariamos comparando distintas listas de la compra. Visualmente es fácil decir que dos vectores se parecen cuanto más pequeño es el ángulo entre ellos. Y eso es precisamente lo que mide la similaridad de coseno, el coseno del ángulo entre los dos vectores.\n",
    "\n",
    "Recordatorio de trigonometría: el coseno de un ángulo es el cateto adyacente a ese ángulo dividido por la hipotenusa. En este caso, el cateto adyacente es el producto escalar de los vectores y la hipotenusa es el producto de las magnitudes de los vectores. El rango de valores de la similaridad de coseno va de -1 a 1, siendo 1 cuando los vectores son iguales y -1 cuando son opuestos."
   ]
  },
  {
   "cell_type": "code",
   "execution_count": 44,
   "metadata": {},
   "outputs": [
    {
     "data": {
      "application/vnd.plotly.v1+json": {
       "config": {
        "plotlyServerURL": "https://plot.ly"
       },
       "data": [
        {
         "mode": "lines+markers",
         "name": "Tu lista",
         "type": "scatter",
         "x": [
          0,
          5
         ],
         "y": [
          0,
          7
         ]
        },
        {
         "mode": "lines+markers",
         "name": "Paco lista",
         "type": "scatter",
         "x": [
          0,
          3
         ],
         "y": [
          0,
          2
         ]
        },
        {
         "mode": "lines+markers",
         "name": "Carla lista",
         "type": "scatter",
         "x": [
          0,
          12
         ],
         "y": [
          0,
          6
         ]
        },
        {
         "line": {
          "dash": "dash"
         },
         "mode": "lines+markers",
         "name": "Tu lista (unitario)",
         "type": "scatter",
         "x": [
          0,
          0.5812381937190965
         ],
         "y": [
          0,
          0.813733471206735
         ]
        },
        {
         "line": {
          "dash": "dash"
         },
         "mode": "lines+markers",
         "name": "Paco lista (unitario)",
         "type": "scatter",
         "x": [
          0,
          0.8320502943378437
         ],
         "y": [
          0,
          0.5547001962252291
         ]
        },
        {
         "line": {
          "dash": "dash"
         },
         "mode": "lines+markers",
         "name": "Carla lista (unitario)",
         "type": "scatter",
         "x": [
          0,
          0.8944271909999159
         ],
         "y": [
          0,
          0.4472135954999579
         ]
        }
       ],
       "layout": {
        "autosize": false,
        "height": 600,
        "showlegend": true,
        "template": {
         "data": {
          "bar": [
           {
            "error_x": {
             "color": "#2a3f5f"
            },
            "error_y": {
             "color": "#2a3f5f"
            },
            "marker": {
             "line": {
              "color": "#E5ECF6",
              "width": 0.5
             },
             "pattern": {
              "fillmode": "overlay",
              "size": 10,
              "solidity": 0.2
             }
            },
            "type": "bar"
           }
          ],
          "barpolar": [
           {
            "marker": {
             "line": {
              "color": "#E5ECF6",
              "width": 0.5
             },
             "pattern": {
              "fillmode": "overlay",
              "size": 10,
              "solidity": 0.2
             }
            },
            "type": "barpolar"
           }
          ],
          "carpet": [
           {
            "aaxis": {
             "endlinecolor": "#2a3f5f",
             "gridcolor": "white",
             "linecolor": "white",
             "minorgridcolor": "white",
             "startlinecolor": "#2a3f5f"
            },
            "baxis": {
             "endlinecolor": "#2a3f5f",
             "gridcolor": "white",
             "linecolor": "white",
             "minorgridcolor": "white",
             "startlinecolor": "#2a3f5f"
            },
            "type": "carpet"
           }
          ],
          "choropleth": [
           {
            "colorbar": {
             "outlinewidth": 0,
             "ticks": ""
            },
            "type": "choropleth"
           }
          ],
          "contour": [
           {
            "colorbar": {
             "outlinewidth": 0,
             "ticks": ""
            },
            "colorscale": [
             [
              0,
              "#0d0887"
             ],
             [
              0.1111111111111111,
              "#46039f"
             ],
             [
              0.2222222222222222,
              "#7201a8"
             ],
             [
              0.3333333333333333,
              "#9c179e"
             ],
             [
              0.4444444444444444,
              "#bd3786"
             ],
             [
              0.5555555555555556,
              "#d8576b"
             ],
             [
              0.6666666666666666,
              "#ed7953"
             ],
             [
              0.7777777777777778,
              "#fb9f3a"
             ],
             [
              0.8888888888888888,
              "#fdca26"
             ],
             [
              1,
              "#f0f921"
             ]
            ],
            "type": "contour"
           }
          ],
          "contourcarpet": [
           {
            "colorbar": {
             "outlinewidth": 0,
             "ticks": ""
            },
            "type": "contourcarpet"
           }
          ],
          "heatmap": [
           {
            "colorbar": {
             "outlinewidth": 0,
             "ticks": ""
            },
            "colorscale": [
             [
              0,
              "#0d0887"
             ],
             [
              0.1111111111111111,
              "#46039f"
             ],
             [
              0.2222222222222222,
              "#7201a8"
             ],
             [
              0.3333333333333333,
              "#9c179e"
             ],
             [
              0.4444444444444444,
              "#bd3786"
             ],
             [
              0.5555555555555556,
              "#d8576b"
             ],
             [
              0.6666666666666666,
              "#ed7953"
             ],
             [
              0.7777777777777778,
              "#fb9f3a"
             ],
             [
              0.8888888888888888,
              "#fdca26"
             ],
             [
              1,
              "#f0f921"
             ]
            ],
            "type": "heatmap"
           }
          ],
          "heatmapgl": [
           {
            "colorbar": {
             "outlinewidth": 0,
             "ticks": ""
            },
            "colorscale": [
             [
              0,
              "#0d0887"
             ],
             [
              0.1111111111111111,
              "#46039f"
             ],
             [
              0.2222222222222222,
              "#7201a8"
             ],
             [
              0.3333333333333333,
              "#9c179e"
             ],
             [
              0.4444444444444444,
              "#bd3786"
             ],
             [
              0.5555555555555556,
              "#d8576b"
             ],
             [
              0.6666666666666666,
              "#ed7953"
             ],
             [
              0.7777777777777778,
              "#fb9f3a"
             ],
             [
              0.8888888888888888,
              "#fdca26"
             ],
             [
              1,
              "#f0f921"
             ]
            ],
            "type": "heatmapgl"
           }
          ],
          "histogram": [
           {
            "marker": {
             "pattern": {
              "fillmode": "overlay",
              "size": 10,
              "solidity": 0.2
             }
            },
            "type": "histogram"
           }
          ],
          "histogram2d": [
           {
            "colorbar": {
             "outlinewidth": 0,
             "ticks": ""
            },
            "colorscale": [
             [
              0,
              "#0d0887"
             ],
             [
              0.1111111111111111,
              "#46039f"
             ],
             [
              0.2222222222222222,
              "#7201a8"
             ],
             [
              0.3333333333333333,
              "#9c179e"
             ],
             [
              0.4444444444444444,
              "#bd3786"
             ],
             [
              0.5555555555555556,
              "#d8576b"
             ],
             [
              0.6666666666666666,
              "#ed7953"
             ],
             [
              0.7777777777777778,
              "#fb9f3a"
             ],
             [
              0.8888888888888888,
              "#fdca26"
             ],
             [
              1,
              "#f0f921"
             ]
            ],
            "type": "histogram2d"
           }
          ],
          "histogram2dcontour": [
           {
            "colorbar": {
             "outlinewidth": 0,
             "ticks": ""
            },
            "colorscale": [
             [
              0,
              "#0d0887"
             ],
             [
              0.1111111111111111,
              "#46039f"
             ],
             [
              0.2222222222222222,
              "#7201a8"
             ],
             [
              0.3333333333333333,
              "#9c179e"
             ],
             [
              0.4444444444444444,
              "#bd3786"
             ],
             [
              0.5555555555555556,
              "#d8576b"
             ],
             [
              0.6666666666666666,
              "#ed7953"
             ],
             [
              0.7777777777777778,
              "#fb9f3a"
             ],
             [
              0.8888888888888888,
              "#fdca26"
             ],
             [
              1,
              "#f0f921"
             ]
            ],
            "type": "histogram2dcontour"
           }
          ],
          "mesh3d": [
           {
            "colorbar": {
             "outlinewidth": 0,
             "ticks": ""
            },
            "type": "mesh3d"
           }
          ],
          "parcoords": [
           {
            "line": {
             "colorbar": {
              "outlinewidth": 0,
              "ticks": ""
             }
            },
            "type": "parcoords"
           }
          ],
          "pie": [
           {
            "automargin": true,
            "type": "pie"
           }
          ],
          "scatter": [
           {
            "fillpattern": {
             "fillmode": "overlay",
             "size": 10,
             "solidity": 0.2
            },
            "type": "scatter"
           }
          ],
          "scatter3d": [
           {
            "line": {
             "colorbar": {
              "outlinewidth": 0,
              "ticks": ""
             }
            },
            "marker": {
             "colorbar": {
              "outlinewidth": 0,
              "ticks": ""
             }
            },
            "type": "scatter3d"
           }
          ],
          "scattercarpet": [
           {
            "marker": {
             "colorbar": {
              "outlinewidth": 0,
              "ticks": ""
             }
            },
            "type": "scattercarpet"
           }
          ],
          "scattergeo": [
           {
            "marker": {
             "colorbar": {
              "outlinewidth": 0,
              "ticks": ""
             }
            },
            "type": "scattergeo"
           }
          ],
          "scattergl": [
           {
            "marker": {
             "colorbar": {
              "outlinewidth": 0,
              "ticks": ""
             }
            },
            "type": "scattergl"
           }
          ],
          "scattermapbox": [
           {
            "marker": {
             "colorbar": {
              "outlinewidth": 0,
              "ticks": ""
             }
            },
            "type": "scattermapbox"
           }
          ],
          "scatterpolar": [
           {
            "marker": {
             "colorbar": {
              "outlinewidth": 0,
              "ticks": ""
             }
            },
            "type": "scatterpolar"
           }
          ],
          "scatterpolargl": [
           {
            "marker": {
             "colorbar": {
              "outlinewidth": 0,
              "ticks": ""
             }
            },
            "type": "scatterpolargl"
           }
          ],
          "scatterternary": [
           {
            "marker": {
             "colorbar": {
              "outlinewidth": 0,
              "ticks": ""
             }
            },
            "type": "scatterternary"
           }
          ],
          "surface": [
           {
            "colorbar": {
             "outlinewidth": 0,
             "ticks": ""
            },
            "colorscale": [
             [
              0,
              "#0d0887"
             ],
             [
              0.1111111111111111,
              "#46039f"
             ],
             [
              0.2222222222222222,
              "#7201a8"
             ],
             [
              0.3333333333333333,
              "#9c179e"
             ],
             [
              0.4444444444444444,
              "#bd3786"
             ],
             [
              0.5555555555555556,
              "#d8576b"
             ],
             [
              0.6666666666666666,
              "#ed7953"
             ],
             [
              0.7777777777777778,
              "#fb9f3a"
             ],
             [
              0.8888888888888888,
              "#fdca26"
             ],
             [
              1,
              "#f0f921"
             ]
            ],
            "type": "surface"
           }
          ],
          "table": [
           {
            "cells": {
             "fill": {
              "color": "#EBF0F8"
             },
             "line": {
              "color": "white"
             }
            },
            "header": {
             "fill": {
              "color": "#C8D4E3"
             },
             "line": {
              "color": "white"
             }
            },
            "type": "table"
           }
          ]
         },
         "layout": {
          "annotationdefaults": {
           "arrowcolor": "#2a3f5f",
           "arrowhead": 0,
           "arrowwidth": 1
          },
          "autotypenumbers": "strict",
          "coloraxis": {
           "colorbar": {
            "outlinewidth": 0,
            "ticks": ""
           }
          },
          "colorscale": {
           "diverging": [
            [
             0,
             "#8e0152"
            ],
            [
             0.1,
             "#c51b7d"
            ],
            [
             0.2,
             "#de77ae"
            ],
            [
             0.3,
             "#f1b6da"
            ],
            [
             0.4,
             "#fde0ef"
            ],
            [
             0.5,
             "#f7f7f7"
            ],
            [
             0.6,
             "#e6f5d0"
            ],
            [
             0.7,
             "#b8e186"
            ],
            [
             0.8,
             "#7fbc41"
            ],
            [
             0.9,
             "#4d9221"
            ],
            [
             1,
             "#276419"
            ]
           ],
           "sequential": [
            [
             0,
             "#0d0887"
            ],
            [
             0.1111111111111111,
             "#46039f"
            ],
            [
             0.2222222222222222,
             "#7201a8"
            ],
            [
             0.3333333333333333,
             "#9c179e"
            ],
            [
             0.4444444444444444,
             "#bd3786"
            ],
            [
             0.5555555555555556,
             "#d8576b"
            ],
            [
             0.6666666666666666,
             "#ed7953"
            ],
            [
             0.7777777777777778,
             "#fb9f3a"
            ],
            [
             0.8888888888888888,
             "#fdca26"
            ],
            [
             1,
             "#f0f921"
            ]
           ],
           "sequentialminus": [
            [
             0,
             "#0d0887"
            ],
            [
             0.1111111111111111,
             "#46039f"
            ],
            [
             0.2222222222222222,
             "#7201a8"
            ],
            [
             0.3333333333333333,
             "#9c179e"
            ],
            [
             0.4444444444444444,
             "#bd3786"
            ],
            [
             0.5555555555555556,
             "#d8576b"
            ],
            [
             0.6666666666666666,
             "#ed7953"
            ],
            [
             0.7777777777777778,
             "#fb9f3a"
            ],
            [
             0.8888888888888888,
             "#fdca26"
            ],
            [
             1,
             "#f0f921"
            ]
           ]
          },
          "colorway": [
           "#636efa",
           "#EF553B",
           "#00cc96",
           "#ab63fa",
           "#FFA15A",
           "#19d3f3",
           "#FF6692",
           "#B6E880",
           "#FF97FF",
           "#FECB52"
          ],
          "font": {
           "color": "#2a3f5f"
          },
          "geo": {
           "bgcolor": "white",
           "lakecolor": "white",
           "landcolor": "#E5ECF6",
           "showlakes": true,
           "showland": true,
           "subunitcolor": "white"
          },
          "hoverlabel": {
           "align": "left"
          },
          "hovermode": "closest",
          "mapbox": {
           "style": "light"
          },
          "paper_bgcolor": "white",
          "plot_bgcolor": "#E5ECF6",
          "polar": {
           "angularaxis": {
            "gridcolor": "white",
            "linecolor": "white",
            "ticks": ""
           },
           "bgcolor": "#E5ECF6",
           "radialaxis": {
            "gridcolor": "white",
            "linecolor": "white",
            "ticks": ""
           }
          },
          "scene": {
           "xaxis": {
            "backgroundcolor": "#E5ECF6",
            "gridcolor": "white",
            "gridwidth": 2,
            "linecolor": "white",
            "showbackground": true,
            "ticks": "",
            "zerolinecolor": "white"
           },
           "yaxis": {
            "backgroundcolor": "#E5ECF6",
            "gridcolor": "white",
            "gridwidth": 2,
            "linecolor": "white",
            "showbackground": true,
            "ticks": "",
            "zerolinecolor": "white"
           },
           "zaxis": {
            "backgroundcolor": "#E5ECF6",
            "gridcolor": "white",
            "gridwidth": 2,
            "linecolor": "white",
            "showbackground": true,
            "ticks": "",
            "zerolinecolor": "white"
           }
          },
          "shapedefaults": {
           "line": {
            "color": "#2a3f5f"
           }
          },
          "ternary": {
           "aaxis": {
            "gridcolor": "white",
            "linecolor": "white",
            "ticks": ""
           },
           "baxis": {
            "gridcolor": "white",
            "linecolor": "white",
            "ticks": ""
           },
           "bgcolor": "#E5ECF6",
           "caxis": {
            "gridcolor": "white",
            "linecolor": "white",
            "ticks": ""
           }
          },
          "title": {
           "x": 0.05
          },
          "xaxis": {
           "automargin": true,
           "gridcolor": "white",
           "linecolor": "white",
           "ticks": "",
           "title": {
            "standoff": 15
           },
           "zerolinecolor": "white",
           "zerolinewidth": 2
          },
          "yaxis": {
           "automargin": true,
           "gridcolor": "white",
           "linecolor": "white",
           "ticks": "",
           "title": {
            "standoff": 15
           },
           "zerolinecolor": "white",
           "zerolinewidth": 2
          }
         }
        },
        "title": {
         "text": "Vectores y Vectores Unitarios en el Plano"
        },
        "width": 800,
        "xaxis": {
         "range": [
          -1,
          14
         ],
         "title": {
          "text": "X"
         }
        },
        "yaxis": {
         "range": [
          -1,
          9
         ],
         "title": {
          "text": "Y"
         }
        }
       }
      }
     },
     "metadata": {},
     "output_type": "display_data"
    }
   ],
   "source": [
    "import numpy as np\n",
    "import plotly.graph_objects as go\n",
    "\n",
    "# Definir los vectores\n",
    "tu_lista = np.array([5, 7])\n",
    "paco_lista = np.array([3, 2])\n",
    "carla_lista = np.array([12, 6])\n",
    "\n",
    "# Calcular los vectores unitarios\n",
    "tu_lista_unitario = tu_lista / np.linalg.norm(tu_lista)\n",
    "paco_lista_unitario = paco_lista / np.linalg.norm(paco_lista)\n",
    "carla_lista_unitario = carla_lista / np.linalg.norm(carla_lista)\n",
    "\n",
    "# Crear el gráfico\n",
    "fig = go.Figure()\n",
    "\n",
    "# Agregar los vectores originales al gráfico\n",
    "fig.add_trace(go.Scatter(x=[0, tu_lista[0]], y=[0, tu_lista[1]], mode='lines+markers', name='Tu lista'))\n",
    "fig.add_trace(go.Scatter(x=[0, paco_lista[0]], y=[0, paco_lista[1]], mode='lines+markers', name='Paco lista'))\n",
    "fig.add_trace(go.Scatter(x=[0, carla_lista[0]], y=[0, carla_lista[1]], mode='lines+markers', name='Carla lista'))\n",
    "\n",
    "# Agregar los vectores unitarios al gráfico\n",
    "fig.add_trace(go.Scatter(x=[0, tu_lista_unitario[0]], y=[0, tu_lista_unitario[1]], mode='lines+markers', name='Tu lista (unitario)', line=dict(dash='dash')))\n",
    "fig.add_trace(go.Scatter(x=[0, paco_lista_unitario[0]], y=[0, paco_lista_unitario[1]], mode='lines+markers', name='Paco lista (unitario)', line=dict(dash='dash')))\n",
    "fig.add_trace(go.Scatter(x=[0, carla_lista_unitario[0]], y=[0, carla_lista_unitario[1]], mode='lines+markers', name='Carla lista (unitario)', line=dict(dash='dash')))\n",
    "\n",
    "# Configurar los ejes\n",
    "fig.update_layout(\n",
    "    title=\"Vectores y Vectores Unitarios en el Plano\",\n",
    "    xaxis_title=\"X\",\n",
    "    yaxis_title=\"Y\",\n",
    "    showlegend=True,\n",
    "    xaxis=dict(range=[-1, max(tu_lista[0], paco_lista[0], carla_lista[0]) + 2]),\n",
    "    yaxis=dict(range=[-1, max(tu_lista[1], paco_lista[1], carla_lista[1]) + 2]),\n",
    "    width=800,\n",
    "    height=600,\n",
    "    autosize=False\n",
    ")\n",
    "\n",
    "# Mostrar el gráfico\n",
    "fig.show()"
   ]
  },
  {
   "cell_type": "markdown",
   "metadata": {},
   "source": [
    "Con este gráfico, es fácil ver que el ángulo entre los vectores nos dice claramente cuales se parecen más. Además, se entiende cómo la normalización (vector unitario) es un truco matemático para poder calcular el coseno del ángulo al generar triángulos rectángulos."
   ]
  },
  {
   "cell_type": "markdown",
   "metadata": {},
   "source": [
    "Ahora si, ya sabéis todo lo que necesitais saber sobre similaridad y distancia. Pero, ¿para qué nos sirve todo esto?"
   ]
  },
  {
   "cell_type": "markdown",
   "metadata": {},
   "source": [
    "# Aplicaciones de la similaridad de coseno"
   ]
  },
  {
   "cell_type": "code",
   "execution_count": null,
   "metadata": {},
   "outputs": [],
   "source": []
  }
 ],
 "metadata": {
  "kernelspec": {
   "display_name": "garage_data_pills",
   "language": "python",
   "name": "python3"
  },
  "language_info": {
   "codemirror_mode": {
    "name": "ipython",
    "version": 3
   },
   "file_extension": ".py",
   "mimetype": "text/x-python",
   "name": "python",
   "nbconvert_exporter": "python",
   "pygments_lexer": "ipython3",
   "version": "3.11.5"
  }
 },
 "nbformat": 4,
 "nbformat_minor": 2
}
