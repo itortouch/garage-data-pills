{
 "cells": [
  {
   "cell_type": "code",
   "execution_count": null,
   "metadata": {},
   "outputs": [],
   "source": [
    "from datetime import timedelta\n",
    "\n",
    "import matplotlib.pyplot as plt\n",
    "import pandas as pd\n",
    "import plotly.express as px\n",
    "from sklearn.cluster import KMeans\n",
    "from sklearn.decomposition import PCA\n",
    "from sklearn.ensemble import GradientBoostingClassifier\n",
    "from sklearn.metrics import accuracy_score, classification_report, confusion_matrix\n",
    "from sklearn.model_selection import train_test_split\n",
    "from sklearn.preprocessing import StandardScaler"
   ]
  },
  {
   "cell_type": "markdown",
   "metadata": {},
   "source": [
    "# [0. ¿Qué es eso del churn?](#0.-¿Qué-es-eso-del-churn?)"
   ]
  },
  {
   "cell_type": "markdown",
   "metadata": {},
   "source": [
    "El \"churn\" es un término que se utiliza en el ámbito de los negocios para referirse a la pérdida de clientes o usuarios. En el caso de una empresa, el churn se refiere a la pérdida de clientes que dejan de comprar productos o servicios de la empresa. Por ejemplo, En el caso de una empresa de telecomunicaciones, el churn se refiere a la pérdida de clientes que dejan de utilizar los servicios de la empresa.\n",
    "\n",
    "En castellano habitualmente usamos \"baja\" para referirnos a este fenómeno."
   ]
  },
  {
   "cell_type": "markdown",
   "metadata": {},
   "source": [
    "Para una empresa, el churn es un problema importante, ya que la pérdida de clientes puede tener un impacto negativo en los ingresos y en la rentabilidad de la empresa. Por lo tanto, es importante que las empresas identifiquen a los clientes que tienen más probabilidades de abandonar la empresa y tomen medidas para intentar retenerlos."
   ]
  },
  {
   "cell_type": "markdown",
   "metadata": {},
   "source": [
    "# [1. Dataset](#1)"
   ]
  },
  {
   "cell_type": "markdown",
   "metadata": {},
   "source": [
    "Vamos a utilizar este conjunto de datos de ventas de una tienda online del Reino Unido, entre el 01/12/2009 y el 09/12/2011. La empresa principalmente vende artículos de regalo. Muchos de los clientes de la empresa son mayoristas."
   ]
  },
  {
   "cell_type": "markdown",
   "metadata": {},
   "source": [
    "Podéis descargar el dataset desde [aquí](https://www.kaggle.com/datasets/mashlyn/online-retail-ii-uci?resource=download). Si os habéis clonado el repositiorio, en la carpeta `data` ya tenéis el archivo `online_retail_II.csv.zip`. Descomprimid el archivo y guardad el archivo `online_retail_II.csv` en la carpeta `data`."
   ]
  },
  {
   "cell_type": "code",
   "execution_count": null,
   "metadata": {},
   "outputs": [],
   "source": [
    "# Cargar el dataset\n",
    "df = pd.read_csv('../data/online_retail_II.csv')\n",
    "\n",
    "# Limpieza de datos\n",
    "df = df.dropna(subset=['Customer ID'])\n",
    "df = df[df['Quantity'] > 0]\n",
    "df['TotalPrice'] = df['Quantity'] * df['Price']\n",
    "\n",
    "# Convertimos la columna 'InvoiceDate' a datetime\n",
    "df['InvoiceDate'] = pd.to_datetime(df['InvoiceDate'])\n",
    "\n",
    "# Extraemos el año y el mes de la columna 'InvoiceDate'\n",
    "df['YearMonth'] = df['InvoiceDate'].dt.to_period('M')\n",
    "\n",
    "# Casteamos la columna 'Customer ID' a int y la renombramos a 'CustomerID'\n",
    "df['CustomerID'] = df['Customer ID'].astype(int)\n",
    "df = df.drop(columns='Customer ID')\n",
    "\n",
    "# Generamos una lista de meses únicos\n",
    "unique_months = df['YearMonth'].unique()"
   ]
  },
  {
   "cell_type": "code",
   "execution_count": null,
   "metadata": {},
   "outputs": [],
   "source": [
    "df.head()"
   ]
  },
  {
   "cell_type": "markdown",
   "metadata": {},
   "source": [
    "¿Cómo haríais para intentar predecir el churn de los clientes de esta empresa?"
   ]
  },
  {
   "cell_type": "markdown",
   "metadata": {},
   "source": [
    "# [2. RFM](#2)"
   ]
  },
  {
   "cell_type": "markdown",
   "metadata": {},
   "source": [
    "El análisis RFM es una técnica de análisis para identificar a los clientes que tienen más probabilidades de abandonar la empresa. RFM son las siglas de Recency, Frequency y Monetary Value.\n",
    "\n",
    "El principio de funcionamiento análisis RFM es que a través de estos tres indicadores es posible modelizar el comportamiento de los clientes de una forma standar para cualquier tipo de negocio.   \n",
    "\n",
    "Vamos a entender cómo se calculan estos tres indicadores."
   ]
  },
  {
   "cell_type": "markdown",
   "metadata": {},
   "source": [
    "## [2.1. Recency](#2.1)"
   ]
  },
  {
   "cell_type": "markdown",
   "metadata": {},
   "source": [
    "La \"recencia\" es una medida de cuánto tiempo ha pasado desde la última interacción de un cliente con la empresa. En este caso, la última compra."
   ]
  },
  {
   "cell_type": "code",
   "execution_count": null,
   "metadata": {},
   "outputs": [],
   "source": [
    "df.query(\"CustomerID == 13837\")"
   ]
  },
  {
   "cell_type": "markdown",
   "metadata": {},
   "source": [
    "¿Cual sería la recencia del cliente 13837 el 1 de Junio de 2011 (2011-06-01)?"
   ]
  },
  {
   "cell_type": "code",
   "execution_count": null,
   "metadata": {},
   "outputs": [],
   "source": [
    "ultima_compra = df.query(\"CustomerID == 13837 and InvoiceDate < '2011-06-01'\")['InvoiceDate'].max()\n",
    "recencia = pd.Timestamp('2011-06-01') - ultima_compra\n",
    "recencia"
   ]
  },
  {
   "cell_type": "markdown",
   "metadata": {},
   "source": [
    "## [2.2. Frequency](#2.2)"
   ]
  },
  {
   "cell_type": "markdown",
   "metadata": {},
   "source": [
    "La \"frecuencia\" es una medida de cuántas veces un cliente ha interactuado con la empresa en un período de tiempo determinado.\n",
    "\n",
    "¿Cuál sería la frecuencia del cliente 13837 el 1 de Junio de 2011 (2011-06-01)?"
   ]
  },
  {
   "cell_type": "code",
   "execution_count": null,
   "metadata": {},
   "outputs": [],
   "source": [
    "frecuencia_absoluta = df.query(\"CustomerID == 13837 and InvoiceDate < '2011-06-01'\")['Invoice'].nunique()\n",
    "frecuencia_absoluta"
   ]
  },
  {
   "cell_type": "markdown",
   "metadata": {},
   "source": [
    "En el análisis RFM la frecuencia se calcula de forma absoluta como nº de ocurrecias. Sin embargo, para muchos la frecuencia es una medida de ocurrencias por unidad de tiempo.\n",
    "Realmente nada nos impide calcular la frecuencia de forma relativa, es decir, el número de ocurrencias por unidad de tiempo."
   ]
  },
  {
   "cell_type": "code",
   "execution_count": null,
   "metadata": {},
   "outputs": [],
   "source": [
    "ocurrencias_ultimos_6_meses = df.query(\"CustomerID == 13837 and InvoiceDate >= '2010-12-01' and InvoiceDate < '2011-06-01'\")['Invoice'].nunique()\n",
    "frecuencia_mensual_ultimos_6_meses = ocurrencias_ultimos_6_meses / 6\n",
    "frecuencia_mensual_ultimos_6_meses"
   ]
  },
  {
   "cell_type": "markdown",
   "metadata": {},
   "source": [
    "## [2.3. Monetary value](#2.3)"
   ]
  },
  {
   "cell_type": "markdown",
   "metadata": {},
   "source": [
    "El \"valor monetario\" es una medida de cuánto ha gastado un cliente en un período de tiempo determinado. Habitualmente se calcula como la suma de los importes de las compras."
   ]
  },
  {
   "cell_type": "markdown",
   "metadata": {},
   "source": [
    "¿Cuál sería el valor monetario del cliente 13837 el 1 de Junio de 2011 (2011-06-01)?"
   ]
  },
  {
   "cell_type": "code",
   "execution_count": null,
   "metadata": {},
   "outputs": [],
   "source": [
    "valor_monetario = df.query(\"CustomerID == 13837 and InvoiceDate < '2011-06-01'\")['TotalPrice'].sum()\n",
    "print(f\"{valor_monetario:.2f} €\")"
   ]
  },
  {
   "cell_type": "markdown",
   "metadata": {},
   "source": [
    "La propiedad de monetary value como la suma de las compras es un consenso, pero en realidad esta magnitud pretende representar es el valor que tiene un cliente para la empresa. Por ejemplo, un cliente que haya comprado al por mayor y haya pagado el precio de venta al por menor, repercutirá un mayor beneficio a la empresa que un cliente que haya comprado al por menor."
   ]
  },
  {
   "cell_type": "markdown",
   "metadata": {},
   "source": [
    "## [2.4. Temporalidad](#2.4)"
   ]
  },
  {
   "cell_type": "markdown",
   "metadata": {},
   "source": [
    "El análisis RFM puede ser tanto estático como dinámico. Mientras que el análisis estático se realiza en un momento concreto teniendo en cuenta toda la historia de interacciones, el análisis dinámico se realiza en un periodo de tiempo determinado.\n",
    "\n",
    "Según el objetivo buscado se puede realizar un análisis RFM estático o dinámico.   \n",
    "\n",
    "\n",
    "Dado que nuestro objetivo actual es predecir el churn de los clientes, vamos a realizar un análisis RFM dinámico mensual. De esta forma podremos analizar la evolución de los clientes en el tiempo y el número de datos será mayor.   \n",
    "\n",
    "\n",
    "Dependiendo del tipo de negocio, el análisis RFM puede ser más o menos sensible a la temporalidad. Por ejemplo, en un negocio de venta de ropa de temporada, la temporalidad es un factor muy importante. En cambio, en un negocio de venta de productos de limpieza, la temporalidad es menos importante. En cualquier caso, es un hiperparámetro que hay que elegir cuidadosamente."
   ]
  },
  {
   "cell_type": "markdown",
   "metadata": {},
   "source": [
    "## [2.5. Cálculo](#2.5)"
   ]
  },
  {
   "cell_type": "code",
   "execution_count": null,
   "metadata": {},
   "outputs": [],
   "source": [
    "# Funcion para calcular RFM para un mes dado\n",
    "def calculate_rfm(data, snapshot_date):\n",
    "    rfm = data.groupby('CustomerID').agg({\n",
    "        'InvoiceDate': lambda x: (snapshot_date - x.max()).days,\n",
    "        'Invoice': 'nunique',\n",
    "        'TotalPrice': 'sum'\n",
    "    }).reset_index()\n",
    "    rfm.columns = ['CustomerID', 'Recency', 'Frequency', 'Monetary']\n",
    "    return rfm\n",
    "\n",
    "# Lista para almacenar los datos RFM mensuales\n",
    "rfm_monthly = []\n",
    "\n",
    "# Iterar sobre cada mes para calcular RFM\n",
    "for month in unique_months:\n",
    "    month_data = df[df['YearMonth'] <= month]\n",
    "    snapshot_date = (month + 1).to_timestamp()\n",
    "    rfm = calculate_rfm(month_data, snapshot_date)\n",
    "    rfm['YearMonth'] = month\n",
    "    rfm_monthly.append(rfm)\n",
    "\n",
    "# concatena los datos de RFM mensuales\n",
    "rfm_monthly_df = pd.concat(rfm_monthly)"
   ]
  },
  {
   "cell_type": "code",
   "execution_count": null,
   "metadata": {},
   "outputs": [],
   "source": [
    "rfm_monthly_df.query(\"CustomerID == 13837\")"
   ]
  },
  {
   "cell_type": "markdown",
   "metadata": {},
   "source": [
    "# [3. Churn](#4)"
   ]
  },
  {
   "cell_type": "markdown",
   "metadata": {},
   "source": [
    "## [3.1. Definición](#3.1)"
   ]
  },
  {
   "cell_type": "markdown",
   "metadata": {},
   "source": [
    "Como ya hemos comentado antes, el churn es la pérdida de clientes. Sin embargo, esto no siempre fácil de definir según el tipo de empresa:\n",
    "\n",
    "- En empresas con modelos de suscripción o contrato, como una empresa telefónica, habitualmente definir el churn es tan sencillo como determinar cuando el cliente ha realizado la gestión para dar de baja el servicio.\n",
    "- En empresas de venta de productos, como la que estamos analizando, el churn es más complicado de definir. ¿Cuándo consideramos que un cliente ha abandonado la empresa? ¿Cuándo ha pasado un tiempo sin comprar? ¿Cuándo ha pasado un tiempo sin interactuar con la empresa?"
   ]
  },
  {
   "cell_type": "markdown",
   "metadata": {},
   "source": [
    "Para simplificar el análisis, vamos a considerar que un cliente ha abandonado la empresa si no ha realizado ninguna compra en los últimos 6 meses."
   ]
  },
  {
   "cell_type": "code",
   "execution_count": null,
   "metadata": {},
   "outputs": [],
   "source": [
    "# Un cliente se considera churn si no ha realizado una compra en los últimos 6 meses, es decir, 180 días (aprox.)\n",
    "churn_threshold = 180"
   ]
  },
  {
   "cell_type": "markdown",
   "metadata": {},
   "source": [
    "## [3.2. Cálculo](#3.2)"
   ]
  },
  {
   "cell_type": "markdown",
   "metadata": {},
   "source": [
    "Puesto que vamos a realizar un análisis RFM dinámico mensual, vamos a calcular el churn mensual. Es decir, vamos a calcular cuántos clientes han abandonado la empresa en un mes determinado.\n",
    "\n",
    "Al definir el churn como la falta de compras en los últimos 6 meses, puede darse la situación de que un cliente haya abandonado la empresa y vuelva a comprar. En este caso el cliente se considerará como churn durante algunos meses y después se considerará de nuevo como cliente activo."
   ]
  },
  {
   "cell_type": "code",
   "execution_count": null,
   "metadata": {},
   "outputs": [],
   "source": [
    "# Función para calcular el churn\n",
    "def calculate_churn(customer_id, current_month, df):\n",
    "    next_purchase = df[(df['CustomerID'] == customer_id) &\n",
    "                       (df['InvoiceDate'] > current_month.to_timestamp())]\n",
    "    if next_purchase.empty:\n",
    "        return 1\n",
    "    days_to_next_purchase = (next_purchase['InvoiceDate'].min() - current_month.to_timestamp()).days\n",
    "    return int(days_to_next_purchase > churn_threshold)\n",
    "\n",
    "# Calcular el churn para cada fila en los datos mensuales de RFM\n",
    "rfm_monthly_df['Churn'] = rfm_monthly_df.apply(\n",
    "    lambda row: calculate_churn(row['CustomerID'], row['YearMonth'], df), axis=1)\n",
    "\n",
    "# El cálculo de churn tarda un poco, por lo que guardamos los datos en un archivo CSV para no esperar\n",
    "rfm_monthly_df.to_csv('../data/rfm_monthly.csv', index=False)"
   ]
  },
  {
   "cell_type": "code",
   "execution_count": null,
   "metadata": {},
   "outputs": [],
   "source": [
    "# Cargamos los datos de RFM mensuales con el calculo de churn\n",
    "rfm_monthly_df = pd.read_csv('../data/rfm_monthly.csv')\n",
    "rfm_monthly_df['YearMonth'] = pd.to_datetime(rfm_monthly_df['YearMonth']).dt.to_period('M')"
   ]
  },
  {
   "cell_type": "code",
   "execution_count": null,
   "metadata": {},
   "outputs": [],
   "source": [
    "rfm_monthly_df.query(\"CustomerID == 13837\")"
   ]
  },
  {
   "cell_type": "code",
   "execution_count": null,
   "metadata": {},
   "outputs": [],
   "source": [
    "rfm_monthly_df.value_counts('Churn')"
   ]
  },
  {
   "cell_type": "code",
   "execution_count": null,
   "metadata": {},
   "outputs": [],
   "source": [
    "# Entre los últimos 180 días (chrun_treshold), la etiqueta churn no es precisa ya que no tenemos los datos futuros para completar los 180 días de datos por delante\n",
    "cutoff_date = df['InvoiceDate'].max() - timedelta(days=churn_threshold)\n",
    "cutoff_period = cutoff_date.to_period('M')\n",
    "# Filtrar los datos para mantener solo los datos de entrenamiento etiquetados con churn fiable\n",
    "rfm_monthly_df = rfm_monthly_df[rfm_monthly_df[\"YearMonth\"]>=cutoff_period]"
   ]
  },
  {
   "cell_type": "code",
   "execution_count": null,
   "metadata": {},
   "outputs": [],
   "source": [
    "rfm_monthly_df.value_counts('Churn')"
   ]
  },
  {
   "cell_type": "markdown",
   "metadata": {},
   "source": [
    "## [3.3 Predicción](#3.3)"
   ]
  },
  {
   "cell_type": "code",
   "execution_count": null,
   "metadata": {},
   "outputs": [],
   "source": [
    "# Para hacer una predicción de churn, necesitamos predecir el target (churn) con los datos del mes anterior\n",
    "rfm_monthly_df_lagged = rfm_monthly_df.copy()\n",
    "rfm_monthly_df_lagged[\"Churn_lagged\"] = rfm_monthly_df_lagged.groupby(\"CustomerID\")[\"Churn\"].shift(-1)\n",
    "rfm_monthly_df_lagged = rfm_monthly_df_lagged.dropna()"
   ]
  },
  {
   "cell_type": "code",
   "execution_count": null,
   "metadata": {},
   "outputs": [],
   "source": [
    "# Preparación los datos para la predicción\n",
    "X = rfm_monthly_df_lagged.drop(columns=['CustomerID', 'YearMonth', 'Churn', 'Churn_lagged'])\n",
    "y = rfm_monthly_df_lagged['Churn_lagged']\n",
    "\n",
    "# Normalización las features numéricas\n",
    "scaler = StandardScaler()\n",
    "X = scaler.fit_transform(X)\n",
    "\n",
    "# División los datos en conjuntos de entrenamiento y prueba\n",
    "X_train, X_test, y_train, y_test = train_test_split(X, y, test_size=0.2, random_state=42)\n",
    "\n",
    "# Entrenamiento un modelo de Gradient Boosting\n",
    "model = GradientBoostingClassifier()\n",
    "model.fit(X_train, y_train)\n",
    "\n",
    "# Evaluación del modelo\n",
    "y_pred = model.predict(X_test)\n",
    "print(f'Accuracy: {accuracy_score(y_test, y_pred)}')\n",
    "# print(confusion_matrix(y_test, y_pred))\n",
    "print(classification_report(y_test, y_pred))\n",
    "# Print matriz de confusión con labels\n",
    "cm = confusion_matrix(y_test, y_pred)\n",
    "print(pd.DataFrame(cm, columns=['Precicción no churn', 'Precicción churn'], index=['Real no churn', 'Real churn']))"
   ]
  },
  {
   "cell_type": "markdown",
   "metadata": {},
   "source": [
    "Con esto tendríamos una predicción de los clientes que abandonarán la empresa el mes siguiente. Aunque la precisión parece alta, en realidad el resultado no es tan bueno como parece. ¿Por qué?\n",
    "- Estamos prediciendo datos de clientes que ya se han dado de baja, lo cual es un patrón facilmente identificable por un modelo y no se debería predecir. Esto está mejorando artificialmente la precisión del modelo.\n",
    "- Los falsos positivos son muy altos, más que los verdaderos positivos. Puesto que el objetivo es actuar sobre los clientes que van a abandonar la empresa, un alto número de falsos positivos puede ser muy costoso para la empresa."
   ]
  },
  {
   "cell_type": "markdown",
   "metadata": {},
   "source": [
    "Por otro lado, el análisis RFM ser puede utilzar de otras formas a parte de la predicción directa del churn. Veamos algunas de ellas."
   ]
  },
  {
   "cell_type": "markdown",
   "metadata": {},
   "source": [
    "# [4. RFM Scoring](#4)"
   ]
  },
  {
   "cell_type": "markdown",
   "metadata": {},
   "source": [
    "Los valores RFM son unidades de medida estándar, cálculadas de forma homogénea para todos los clientes. Esto nos permite comparar a los clientes entre sí y establecer un ranking de los clientes más valiosos para la empresa."
   ]
  },
  {
   "cell_type": "markdown",
   "metadata": {},
   "source": [
    "Una forma sencilla de crear un ranking es obtener percentiles de los valores RFM. En este caso, vamos a suponer que queremos dividir a los clientes en 4 grupos:\n",
    "- Clientes oro. Los clientes que tienen un valor RFM alto son los más valiosos para la empresa.\n",
    "- Clientes plata. Los clientes que tienen un valor RFM medio.\n",
    "- Clientes bronce. Los clientes que tienen un valor RFM bajo.\n",
    "- Clientes plomo. Los clientes que tienen un valor RFM muy bajo."
   ]
  },
  {
   "cell_type": "code",
   "execution_count": null,
   "metadata": {},
   "outputs": [],
   "source": [
    "# Función para asignar puntuaciones RFM basadas en cuartiles\n",
    "def assign_rfm_scores(df):\n",
    "    df['R_Quartile'] = pd.qcut(df['Recency'], 4, labels=False, duplicates=\"drop\") + 1\n",
    "    df['F_Quartile'] = pd.qcut(df['Frequency'], 4, labels=False, duplicates=\"drop\") + 1\n",
    "    df['M_Quartile'] = pd.qcut(df['Monetary'], 4, labels=False, duplicates=\"drop\") + 1\n",
    "\n",
    "    # Invertir la puntuación de Recency\n",
    "    df['R_Quartile'] = 5 - df['R_Quartile']\n",
    "\n",
    "    return df\n",
    "\n",
    "# Asignar puntuaciones RFM mes a mes\n",
    "rfm_monthly_df = rfm_monthly_df.groupby('YearMonth', as_index=False).apply(assign_rfm_scores).reset_index(drop=True)\n",
    "\n",
    "# Crear una puntuación RFM combinada de forma que la máxima puntuación (mejores clientes) sea 4*3 = 12\n",
    "rfm_monthly_df['RFM_Score'] = 4*3 - (rfm_monthly_df['R_Quartile'] + rfm_monthly_df['F_Quartile'] + rfm_monthly_df['M_Quartile'])"
   ]
  },
  {
   "cell_type": "code",
   "execution_count": null,
   "metadata": {},
   "outputs": [],
   "source": [
    "rfm_monthly_df.query(\"CustomerID == 13837\")"
   ]
  },
  {
   "cell_type": "code",
   "execution_count": null,
   "metadata": {},
   "outputs": [],
   "source": [
    "rfm_monthly_df.value_counts('RFM_Score').sort_index()"
   ]
  },
  {
   "cell_type": "markdown",
   "metadata": {},
   "source": [
    "De la misma forma que hemos decidido dividir a los clientes en 4 grupos igualmente grandes (cuartiles), podríamos dividirlos en grupos heterogéneos. Por ejemplo, podríamos dividir a los clientes en 3 grupos:\n",
    "- Clientes VIP. Los clientes que tienen un valor Recencia menor a 10 días, una Frecuencia mayor a 10 compras y un Valor Monetario mayor a 1000€.\n",
    "- Clientes Regulares. Los clientes que tienen un valor Recencia menor a 30 días, una Frecuencia mayor a 5 compras y un Valor Monetario mayor a 500€.\n",
    "- Clientes en riesgo. El resto de clientes.\n",
    "\n",
    "Este tipo de clasificaciones resultan especialmente útiles si tenemos conocimientos específicos del negocio. Por ejemplo, si sabemos que los clientes que compran más de 10 veces al mes son los más valiosos para la empresa, podemos establecer un umbral de 10 compras al mes para clasificar a los clientes."
   ]
  },
  {
   "cell_type": "markdown",
   "metadata": {},
   "source": [
    "# [5. RFM Clustering](#5)"
   ]
  },
  {
   "cell_type": "markdown",
   "metadata": {},
   "source": [
    "Realmente el scoring que hemos realizado en el apartado anterior es un tipo de clustering manual. En tal caso, ¿por qué no utilizar un algoritmo de clustering para realizar la clasificación de los clientes?"
   ]
  },
  {
   "cell_type": "code",
   "execution_count": null,
   "metadata": {},
   "outputs": [],
   "source": [
    "# seleccionando las columnas RFM para el clustering\n",
    "rfm_features = rfm_monthly_df[['Recency', 'Frequency', 'Monetary']]\n",
    "\n",
    "# Elbow Analysis (Criterio del codo)\n",
    "sse = []\n",
    "k_range = range(1, 11)\n",
    "for k in k_range:\n",
    "    kmeans = KMeans(n_clusters=k, random_state=42, n_init=\"auto\")\n",
    "    kmeans.fit(rfm_features)\n",
    "    sse.append(kmeans.inertia_)\n",
    "\n",
    "# Graficar la curva del codo\n",
    "plt.figure(figsize=(10, 6))\n",
    "plt.plot(k_range, sse, marker='o')\n",
    "plt.xlabel('Number of clusters')\n",
    "plt.ylabel('Sum of Squared Errors (SSE)')\n",
    "plt.title('Elbow Method For Optimal k')\n",
    "plt.show()\n",
    "\n",
    "# Del gráfico del codo, elegir el número óptimo de clusters\n",
    "optimal_k = 4\n",
    "\n",
    "# Aplicando el clustering KMeans con el número de clusters elegido\n",
    "kmeans = KMeans(n_clusters=optimal_k, random_state=42, n_init=\"auto\")\n",
    "rfm_monthly_df['Cluster'] = kmeans.fit_predict(rfm_features)"
   ]
  },
  {
   "cell_type": "code",
   "execution_count": null,
   "metadata": {},
   "outputs": [],
   "source": [
    "rfm_monthly_df.head()"
   ]
  },
  {
   "cell_type": "code",
   "execution_count": null,
   "metadata": {},
   "outputs": [],
   "source": [
    "# ¿Cómo se relacionan los clusters creados con la puntuación RFM?\n",
    "rfm_monthly_df.groupby('Cluster').agg({\"RFM_Score\": \"mean\"})"
   ]
  },
  {
   "cell_type": "markdown",
   "metadata": {},
   "source": [
    "Si pudieramos hacer un gráfico para ver los clustereos de los clientes en función de los valores RFM, ¿cómo sería?"
   ]
  },
  {
   "cell_type": "code",
   "execution_count": null,
   "metadata": {},
   "outputs": [],
   "source": [
    "# Reduce las features RFM a 2 dimensiones usando PCA\n",
    "pca = PCA(n_components=2)\n",
    "rfm_monthly_df[['PCA1', 'PCA2']] = pca.fit_transform(rfm_monthly_df[['Recency', 'Frequency', 'Monetary']])\n",
    "\n",
    "# Parche para graficar los datos con Plotly\n",
    "rfm_monthly_df[\"YearMonth\"] = rfm_monthly_df[\"YearMonth\"].astype(str)\n",
    "\n",
    "# Crea un gráfico de dispersión de Plotly\n",
    "fig = px.scatter(rfm_monthly_df,\n",
    "                 x='PCA1',\n",
    "                 y='PCA2',\n",
    "                 color='RFM_Score',\n",
    "                 hover_data=['CustomerID', 'YearMonth', 'RFM_Score'],\n",
    "                 title='Customer Segments based on RFM Scores',\n",
    "                 labels={'PCA1': 'Principal Component 1', 'PCA2': 'Principal Component 2'})\n",
    "\n",
    "fig.show()"
   ]
  },
  {
   "cell_type": "code",
   "execution_count": null,
   "metadata": {},
   "outputs": [],
   "source": [
    "rfm_monthly_df.head()"
   ]
  },
  {
   "cell_type": "markdown",
   "metadata": {},
   "source": [
    "# [6. Conclusiones](#6)"
   ]
  },
  {
   "cell_type": "markdown",
   "metadata": {},
   "source": [
    "- El \"churn\", en casteallano \"baja\", se define como la pérdida de clientes.\n",
    "- El análisis RFM es una técnica de análisis para identificar a los clientes que tienen más probabilidades de abandonar la empresa.\n",
    "- La ventaja principal del análisis RFM es que es una técnica sencilla, standard, fácil de entender y fácil de implementar.\n",
    "- El análisis RFM puede ser tanto estático como dinámico.\n",
    "- El análisis RFM puede ser utilizado para predecir el churn de los clientes, pero también para clasificar a los clientes en función de su valor para la empresa."
   ]
  },
  {
   "cell_type": "markdown",
   "metadata": {},
   "source": []
  }
 ],
 "metadata": {
  "kernelspec": {
   "display_name": "garage_data_pills",
   "language": "python",
   "name": "python3"
  },
  "language_info": {
   "codemirror_mode": {
    "name": "ipython",
    "version": 3
   },
   "file_extension": ".py",
   "mimetype": "text/x-python",
   "name": "python",
   "nbconvert_exporter": "python",
   "pygments_lexer": "ipython3",
   "version": "3.11.5"
  }
 },
 "nbformat": 4,
 "nbformat_minor": 2
}
