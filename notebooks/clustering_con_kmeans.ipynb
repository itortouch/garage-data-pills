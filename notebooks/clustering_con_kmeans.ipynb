{
 "cells": [
  {
   "cell_type": "markdown",
   "metadata": {},
   "source": [
    "![k-means by DALL-E3](../data/img/k-means-cover.webp)"
   ]
  },
  {
   "cell_type": "markdown",
   "metadata": {},
   "source": [
    "# Aprendizaje no supervisado"
   ]
  },
  {
   "cell_type": "markdown",
   "metadata": {},
   "source": [
    "Se trata de una rama del machine learning cuyo objetivo es agrupar distintos registros de datos en grupos homogeneos en base a sus propias características."
   ]
  },
  {
   "cell_type": "markdown",
   "metadata": {},
   "source": [
    "**Ejemplos reales donde se usan algorítmos de aprendizaje no supervisado:**\n",
    "- Segmentar clientes de un negocio en base a sus características o cómo compran\n",
    "- Análisis socio-económicos de la población\n",
    "- Comprimir imágenes agrupando pixeles similares\n",
    "- Análisis de redes sociales"
   ]
  },
  {
   "cell_type": "markdown",
   "metadata": {},
   "source": [
    "Ejemplo de un análisis que hizo [@BarriPdmx](https://twitter.com/BarriPdmx/) donde sacó los datos de los tweets que publicaron los fans de una telenovela turca con el hashtag [#babaolmak](https://twitter.com/BarriPdmx/status/1413221249023725569)\n",
    "\n",
    "\n",
    "![babaolmak por BarriPdmx](../data/img/analisis_rrss_clusters.jpeg)\n",
    "\n",
    "En el gráfico se ven los distintos perfiles posteando en el hastag y sus interacciones. En base a esas interacciones es capa de agrupar usuarios de una misma comunidad, en este caso del mismo idioma."
   ]
  },
  {
   "cell_type": "code",
   "execution_count": null,
   "metadata": {},
   "outputs": [],
   "source": [
    "import matplotlib.pyplot as plt\n",
    "import numpy as np\n",
    "import pandas as pd\n",
    "import plotly.express as px\n",
    "from sklearn.cluster import KMeans"
   ]
  },
  {
   "cell_type": "markdown",
   "metadata": {},
   "source": [
    "# K Means"
   ]
  },
  {
   "cell_type": "markdown",
   "metadata": {},
   "source": [
    "El algorítmo k-means es, sorpresa, un algorítmo de aprendizaje no supervisado que agrupa (clusteriza) un conjunto de datos en K grupos. Siendo K un hiperparámetro que elejimos nosotros mismos y que define el número de grupos (clusters) distintos.\n",
    "\n",
    "Antes de explicar cómo funciona, vamos a ver cómo haríamos nosotros para agrupar datos de forma intuitiva."
   ]
  },
  {
   "cell_type": "markdown",
   "metadata": {},
   "source": [
    "## Ejemplo intuitivo"
   ]
  },
  {
   "cell_type": "markdown",
   "metadata": {},
   "source": [
    "He preguntado a algunos familiares su altura y su peso y los he anotado. Tómate tu tiempo para entender los datos y el código. Después responde a las preguntas en base al gráfico."
   ]
  },
  {
   "cell_type": "code",
   "execution_count": null,
   "metadata": {},
   "outputs": [],
   "source": [
    "familiar_1 = [\"familiar_1\", 190, 92]\n",
    "familiar_2 = [\"familiar_2\", 173, 58]\n",
    "familiar_3 = [\"familiar_3\", 160, 50]\n",
    "familiar_4 = [\"familiar_4\", 182, 78]\n",
    "familiar_5 = [\"familiar_5\", 122, 23]\n",
    "familiar_6 = [\"familiar_6\", 112, 19]"
   ]
  },
  {
   "cell_type": "code",
   "execution_count": null,
   "metadata": {},
   "outputs": [],
   "source": [
    "altura_peso_familiares = pd.DataFrame([familiar_1, familiar_2, familiar_3, familiar_4, familiar_5, familiar_6], columns=['familiar', 'altura', 'peso'])\n",
    "altura_peso_familiares"
   ]
  },
  {
   "cell_type": "code",
   "execution_count": null,
   "metadata": {},
   "outputs": [],
   "source": [
    "fig = px.scatter(altura_peso_familiares, x='altura', y='peso', title='Altura vs altura de familiares', hover_name='familiar', height=700, width=800)\n",
    "fig.show()"
   ]
  },
  {
   "cell_type": "markdown",
   "metadata": {},
   "source": [
    "**Responde a estas preguntas**\n",
    "- ¿Si tuvieras que agrupar los familiares en dos clusters en base a su altura y peso cúales serían?\n",
    "- ¿y si tuviertas que agruparlos en tres grupos?"
   ]
  },
  {
   "cell_type": "markdown",
   "metadata": {},
   "source": [
    "### Respuesta"
   ]
  },
  {
   "cell_type": "code",
   "execution_count": null,
   "metadata": {},
   "outputs": [],
   "source": [
    "kmeans = KMeans(n_clusters=2, random_state=42, n_init=\"auto\")\n",
    "familiares_en_dos_grupos = kmeans.fit_predict(altura_peso_familiares[['altura', 'peso']])\n",
    "altura_peso_familiares[\"dos_grupos\"] = familiares_en_dos_grupos"
   ]
  },
  {
   "cell_type": "code",
   "execution_count": null,
   "metadata": {},
   "outputs": [],
   "source": [
    "kmeans = KMeans(n_clusters=3, random_state=42, n_init=\"auto\")\n",
    "familiares_en_tres_grupos = kmeans.fit_predict(altura_peso_familiares[['altura', 'peso']])\n",
    "altura_peso_familiares[\"tres_grupos\"] = familiares_en_tres_grupos"
   ]
  },
  {
   "cell_type": "code",
   "execution_count": null,
   "metadata": {},
   "outputs": [],
   "source": [
    "altura_peso_familiares = altura_peso_familiares.astype({\"tres_grupos\": \"category\", \"dos_grupos\": \"category\"})\n",
    "altura_peso_familiares"
   ]
  },
  {
   "cell_type": "code",
   "execution_count": null,
   "metadata": {},
   "outputs": [],
   "source": [
    "fig = px.scatter(altura_peso_familiares, x='altura', y='peso', title='Altura vs altura de familiares', hover_name='familiar', color='dos_grupos', symbol='tres_grupos', height=700, width=800)\n",
    "fig.show()"
   ]
  },
  {
   "cell_type": "markdown",
   "metadata": {},
   "source": [
    "Fácil ¿verdad?"
   ]
  },
  {
   "cell_type": "markdown",
   "metadata": {},
   "source": [
    "## ¿Cómo funciona el algorítmo?"
   ]
  },
  {
   "cell_type": "markdown",
   "metadata": {},
   "source": [
    "El algoritmo de k-means es relativamente sencillo tanto a nivel conceptual como a nivel matemático. Vamos a ganar una intuición rápida simplemente traduciendo su nombre.\n",
    "Como ya hemos visto la \"K\" viene del número de clusters en los que agrupar los datos y \"means\" quiere decir directamente promedio. De esta forma, lo que hace el algorítmo k-means es:\n",
    "\n",
    "> *Agrupar el dataset en K clusters, donde cada cluster está caracterizado por su promedio (centroide) con el objetivo de minimizar la distancia de cada dato al centro del grupo al que pertenece*"
   ]
  },
  {
   "cell_type": "markdown",
   "metadata": {},
   "source": [
    "#### Algorítmo paso a paso"
   ]
  },
  {
   "cell_type": "markdown",
   "metadata": {},
   "source": [
    "Para lograr generar K grupos cuyo centro esté a la distancia mínima posible de los datos de su grupo, k-means realiza los siguientes pasos:   \n",
    "\n",
    "1. Elegir el número de clústeres. ESto es un hiperparámetro y generalmente suele basarse en conocimiento del dominio, experimentación o métodos como el método del codo que veremos más adelante.\n",
    "2. Seleccionar aleatoriamente K puntos de datos como los centroides iniciales. Estos puntos actúan como los centros iniciales de los clústeres.\n",
    "3. Para cada punto de dato en el conjunto de datos, calcular la distancia (generalmente la distancia euclidiana) desde el punto de dato hasta cada uno de los K centroides.\n",
    "4. Asignar cada punto de dato al clúster con el centroide más cercano (menor distancia).\n",
    "5. Después de que todos los puntos sean asignados a clústeres, recalcular los centroides calculando la media de todos los puntos de datos en cada clúster. Esta media se convierte en el nuevo centroide de cada clúster.\n",
    "6. Repetir los pasos de asignación y actualización (3, 4 y 5) hasta que se cumpla una de las siguientes condiciones:\n",
    "    - Los centroides no cambian (o el cambio está por debajo de un cierto umbral)\n",
    "    - La asignación de puntos de datos a clústeres no cambia\n",
    "    - Se alcanza un número predeterminado de iteraciones\n",
    "7. Cuando se cumple alguna de las condiciones anteriores consideramos que el algorítmo ha covergido.\n",
    "\n",
    "**Nota:** K-means es un algorítmo estocástico, por lo para datasets complejos podría no encontrar la solución óptima."
   ]
  },
  {
   "cell_type": "markdown",
   "metadata": {},
   "source": [
    "#### Vamos a reproducir el algorítmo a mano"
   ]
  },
  {
   "cell_type": "markdown",
   "metadata": {},
   "source": [
    "En primer lugar vamos a rescatar el mismo ejemplo de antes."
   ]
  },
  {
   "cell_type": "code",
   "execution_count": null,
   "metadata": {},
   "outputs": [],
   "source": [
    "# Mismo ejemplo de antes\n",
    "altura_peso_familiares = altura_peso_familiares.drop(columns=['tres_grupos', 'dos_grupos'])\n",
    "altura_peso_familiares"
   ]
  },
  {
   "cell_type": "markdown",
   "metadata": {},
   "source": [
    "Vamos a inventarnos tres centroides (centros de cluster) que no tengan sentido para la relación altura/peso que suele ser normal. Piensa que aunque en este caso la relación altura/peso es algo que conocemos y nos resulta intuitivo, en muchas ocasiones no tendremos una buena intuición sobre los datos."
   ]
  },
  {
   "cell_type": "code",
   "execution_count": null,
   "metadata": {},
   "outputs": [],
   "source": [
    "# Tres centroides que no tienen sentido para la relación altura/peso\n",
    "c_1 = [170, 25]\n",
    "c_2 = [160, 110]\n",
    "c_3 = [200, 58]\n",
    "centroides = pd.DataFrame([c_1, c_2, c_3], columns=['altura', 'peso'])\n",
    "centroides"
   ]
  },
  {
   "cell_type": "markdown",
   "metadata": {},
   "source": [
    "Ahora vamos a calcular la distancia de cada dato de familiar a los centroides. "
   ]
  },
  {
   "cell_type": "code",
   "execution_count": null,
   "metadata": {},
   "outputs": [],
   "source": [
    "def distancia_euclidiana(x1, y1, x2, y2):\n",
    "    return np.sqrt((x2-x1)**2 + (y2-y1)**2)"
   ]
  },
  {
   "cell_type": "code",
   "execution_count": null,
   "metadata": {},
   "outputs": [],
   "source": [
    "altura_peso_familiares[\"distancia_c_1\"] = altura_peso_familiares.apply(lambda x: distancia_euclidiana(x['altura'], x['peso'], centroides.loc[0, 'altura'], centroides.loc[0, 'peso']), axis=\"columns\")\n",
    "altura_peso_familiares[\"distancia_c_2\"] = altura_peso_familiares.apply(lambda x: distancia_euclidiana(x['altura'], x['peso'], centroides.loc[1, 'altura'], centroides.loc[1, 'peso']), axis=\"columns\")\n",
    "altura_peso_familiares[\"distancia_c_3\"] = altura_peso_familiares.apply(lambda x: distancia_euclidiana(x['altura'], x['peso'], centroides.loc[2, 'altura'], centroides.loc[2, 'peso']), axis=\"columns\")"
   ]
  },
  {
   "cell_type": "code",
   "execution_count": null,
   "metadata": {},
   "outputs": [],
   "source": [
    "altura_peso_familiares[\"cluster\"] = altura_peso_familiares[[\"distancia_c_1\", \"distancia_c_2\", \"distancia_c_3\"]].idxmin(axis=1).str[-3:]\n",
    "altura_peso_familiares"
   ]
  },
  {
   "cell_type": "code",
   "execution_count": null,
   "metadata": {},
   "outputs": [],
   "source": [
    "# Para hacer más fácil el gráfico juntamos los datos con los centroides\n",
    "centroides[\"cluster\"] = [\"c_1\", \"c_2\", \"c_3\"]\n",
    "centroides[\"familiar\"] = [\"c_1\", \"c_2\", \"c_3\"]\n",
    "altura_peso_familiares_centroides = pd.concat([altura_peso_familiares, centroides])\n",
    "altura_peso_familiares_centroides"
   ]
  },
  {
   "cell_type": "code",
   "execution_count": null,
   "metadata": {},
   "outputs": [],
   "source": [
    "fig = px.scatter(altura_peso_familiares_centroides, x='altura', y='peso', title='Peso vs altura de familiares', hover_name='familiar', color='cluster', height=700, width=800)\n",
    "fig.show()"
   ]
  },
  {
   "cell_type": "markdown",
   "metadata": {},
   "source": [
    "Por último recalculamos los nuevos centroides y vemos cómo quedaría ahora en el gráfico."
   ]
  },
  {
   "cell_type": "code",
   "execution_count": null,
   "metadata": {},
   "outputs": [],
   "source": [
    "centroides_i2 = altura_peso_familiares.groupby('cluster')[[\"altura\", \"peso\"]].mean().reset_index(drop=True)\n",
    "centroides_i2[\"cluster\"] = [\"c_1\", \"c_2\", \"c_3\"]\n",
    "centroides_i2[\"familiar\"] = [\"c_1\", \"c_2\", \"c_3\"]\n",
    "centroides_i2"
   ]
  },
  {
   "cell_type": "code",
   "execution_count": null,
   "metadata": {},
   "outputs": [],
   "source": [
    "fig = px.scatter(pd.concat([altura_peso_familiares, centroides_i2]), x='altura', y='peso', title='Peso vs altura de familiares', hover_name='familiar', color='cluster', height=700, width=800)\n",
    "fig.show()"
   ]
  },
  {
   "cell_type": "markdown",
   "metadata": {},
   "source": [
    "Ahora tocaría volver a iterar, recalcular los puntos más próximos y otra vz el mismo proceso. Para ellos, vamos a empaquetar este proceso un una función y ejecutarlo varias veces."
   ]
  },
  {
   "cell_type": "code",
   "execution_count": null,
   "metadata": {},
   "outputs": [],
   "source": [
    "def compute_k_means(datos_familia, datos_centroides):\n",
    "    datos_familia[\"distancia_c_1\"] = datos_familia.apply(lambda x: distancia_euclidiana(x['altura'], x['peso'], datos_centroides.loc[0, 'altura'], datos_centroides.loc[0, 'peso']), axis=\"columns\")\n",
    "    datos_familia[\"distancia_c_2\"] = datos_familia.apply(lambda x: distancia_euclidiana(x['altura'], x['peso'], datos_centroides.loc[1, 'altura'], datos_centroides.loc[1, 'peso']), axis=\"columns\")\n",
    "    datos_familia[\"distancia_c_3\"] = datos_familia.apply(lambda x: distancia_euclidiana(x['altura'], x['peso'], datos_centroides.loc[2, 'altura'], datos_centroides.loc[2, 'peso']), axis=\"columns\")\n",
    "    datos_familia[\"cluster\"] = datos_familia[[\"distancia_c_1\", \"distancia_c_2\", \"distancia_c_3\"]].idxmin(axis=1).str[-3:]\n",
    "    datos_centroides[\"cluster\"] = [\"c_1\", \"c_2\", \"c_3\"]\n",
    "    datos_centroides[\"familiar\"] = [\"c_1\", \"c_2\", \"c_3\"]\n",
    "    nuevos_centroides = datos_familia.groupby('cluster')[[\"altura\", \"peso\"]].mean().reset_index(drop=True)\n",
    "    nuevos_centroides[\"cluster\"] = [\"c_1\", \"c_2\", \"c_3\"]\n",
    "    nuevos_centroides[\"familiar\"] = [\"c_1\", \"c_2\", \"c_3\"]\n",
    "    return datos_familia, datos_centroides, nuevos_centroides"
   ]
  },
  {
   "cell_type": "code",
   "execution_count": null,
   "metadata": {},
   "outputs": [],
   "source": [
    "altura_peso_familiares, centroides_i2, centroides_i3 = compute_k_means(altura_peso_familiares, centroides_i2)"
   ]
  },
  {
   "cell_type": "code",
   "execution_count": null,
   "metadata": {},
   "outputs": [],
   "source": [
    "fig = px.scatter(pd.concat([altura_peso_familiares, centroides_i3]), x='altura', y='peso', title='Peso vs altura de familiares', hover_name='familiar', color='cluster', height=700, width=800)\n",
    "fig.show()"
   ]
  },
  {
   "cell_type": "code",
   "execution_count": null,
   "metadata": {},
   "outputs": [],
   "source": [
    "altura_peso_familiares, centroides_i3, centroides_i4 = compute_k_means(altura_peso_familiares, centroides_i3)"
   ]
  },
  {
   "cell_type": "code",
   "execution_count": null,
   "metadata": {},
   "outputs": [],
   "source": [
    "fig = px.scatter(pd.concat([altura_peso_familiares, centroides_i4]), x='altura', y='peso', title='Peso vs altura de familiares', hover_name='familiar', color='cluster', height=700, width=800)\n",
    "fig.show()"
   ]
  },
  {
   "cell_type": "code",
   "execution_count": null,
   "metadata": {},
   "outputs": [],
   "source": [
    "altura_peso_familiares, centroides_i4, centroides_i5 = compute_k_means(altura_peso_familiares, centroides_i3)"
   ]
  },
  {
   "cell_type": "code",
   "execution_count": null,
   "metadata": {},
   "outputs": [],
   "source": [
    "fig = px.scatter(pd.concat([altura_peso_familiares, centroides_i5]), x='altura', y='peso', title='Peso vs altura de familiares', hover_name='familiar', color='cluster', height=700, width=800)\n",
    "fig.show()"
   ]
  },
  {
   "cell_type": "markdown",
   "metadata": {},
   "source": [
    "Recordamos las condiciones cumplidas:\n",
    "    - Los centroides no cambian (o el cambio está por debajo de un cierto umbral)\n",
    "    - La asignación de puntos de datos a clústeres no cambia\n",
    "    - Se alcanza un número predeterminado de iteraciones\n",
    "\n",
    "No hemos establecido previamente un umbral para la primera condición, pero a simple vista es evidente que se cumple. Además, también se cumple la segunda condición.\n",
    "Podemos decir que el algoritmo ha convergido."
   ]
  },
  {
   "cell_type": "markdown",
   "metadata": {},
   "source": [
    "## K-means en scikit-learn"
   ]
  },
  {
   "cell_type": "code",
   "execution_count": null,
   "metadata": {},
   "outputs": [],
   "source": [
    "altura_peso_familiares = pd.DataFrame([familiar_1, familiar_2, familiar_3, familiar_4, familiar_5, familiar_6], columns=['familiar', 'altura', 'peso'])\n",
    "altura_peso_familiares"
   ]
  },
  {
   "cell_type": "code",
   "execution_count": null,
   "metadata": {},
   "outputs": [],
   "source": [
    "k_grupos = 3\n",
    "init = [[170, 25], [160, 110], [200, 58]]\n",
    "# init='k-means++'\n",
    "kmeans = KMeans(n_clusters=k_grupos, init=init, n_init=\"auto\", random_state=42)\n",
    "\n",
    "familiares_en_k_grupos = kmeans.fit_predict(altura_peso_familiares[['altura', 'peso']])\n",
    "altura_peso_familiares[\"cluster\"] = familiares_en_k_grupos\n",
    "altura_peso_familiares = altura_peso_familiares.astype({\"cluster\": \"category\"})"
   ]
  },
  {
   "cell_type": "code",
   "execution_count": null,
   "metadata": {},
   "outputs": [],
   "source": [
    "altura_peso_familiares"
   ]
  },
  {
   "cell_type": "markdown",
   "metadata": {},
   "source": [
    "### Centroides\n",
    "Extraemos los centroides directamente del objeto k-means de scikit-learn.   \n",
    "\n",
    "Los centroides no vienen ordenados con el mismo orden que los clusters de los datos, por eso les ponemos un numero distinto."
   ]
  },
  {
   "cell_type": "code",
   "execution_count": null,
   "metadata": {},
   "outputs": [],
   "source": [
    "centroides = kmeans.cluster_centers_\n",
    "datos_centroides = pd.DataFrame(centroides, columns=[\"altura\", \"peso\"])\n",
    "datos_centroides[\"cluster\"] = [\"4\", \"4\", \"4\"]\n",
    "datos_centroides[\"familiar\"] = [\"4\", \"4\", \"4\"]\n",
    "datos_centroides"
   ]
  },
  {
   "cell_type": "markdown",
   "metadata": {},
   "source": [
    "### Inercia\n",
    "Suma de los cuadrados de las distancias de cada dato a su centroide correspondiente. Se puede interpretar como una métrica de calidad. Cuanto más pequeña es la inercia, más cerca están los puntos de su centroide.\n"
   ]
  },
  {
   "cell_type": "code",
   "execution_count": null,
   "metadata": {},
   "outputs": [],
   "source": [
    "distnacia_a_centroides = kmeans.inertia_\n",
    "distnacia_a_centroides"
   ]
  },
  {
   "cell_type": "markdown",
   "metadata": {},
   "source": [
    "### Visualización"
   ]
  },
  {
   "cell_type": "code",
   "execution_count": null,
   "metadata": {},
   "outputs": [],
   "source": [
    "fig = px.scatter(pd.concat([altura_peso_familiares, datos_centroides]), x='altura', y='peso', title='Altura vs altura de familiares', hover_name='familiar', color=\"cluster\", height=700, width=800)\n",
    "fig.show()"
   ]
  },
  {
   "cell_type": "markdown",
   "metadata": {},
   "source": [
    "## ¿Cuántos clusters (K) elegir?\n",
    "Cuando no sabemos a priori cuál es el número óptimo o no tenemos intuición sobre los datos."
   ]
  },
  {
   "cell_type": "markdown",
   "metadata": {},
   "source": [
    "## Método del codo (elbow method)\n",
    "\n",
    "Se trata de un método empirico muy sencillo:\n",
    "1. Se calcula k-means para distintos valores de K\n",
    "2. Se obtienen las inercias de cada iteración y se visualizan\n",
    "3. Cuando detectemos que la gráfica de la inercia se \"aplana\", detectamos el \"codo\"\n",
    "4. Elegirimos el K correspondiente al codo como el óptimo"
   ]
  },
  {
   "cell_type": "markdown",
   "metadata": {},
   "source": [
    "En esta ocasión, aunque seguimos con la misma intuición de la relación altura/peso, vamos a generar un dataset mucho más grande el cuál nos despistaría si no lo conocieramos de antemano."
   ]
  },
  {
   "cell_type": "code",
   "execution_count": null,
   "metadata": {},
   "outputs": [],
   "source": [
    "# Seed para reproducibilidad\n",
    "np.random.seed(42)\n",
    "\n",
    "# g_1: Promedio altura ~ 165 cm, peso ~ 60 kg\n",
    "altura_g1 = np.random.normal(165, 10, 100)\n",
    "peso_g1 = np.random.normal(60, 8, 100)\n",
    "\n",
    "# g_2: Promedio altura ~ 180 cm, peso ~ 80 kg\n",
    "altura_g2 = np.random.normal(180, 10, 100)\n",
    "peso_g2 = np.random.normal(80, 12, 100)\n",
    "\n",
    "# g_3: Promedio altura ~ 120 cm, peso ~ 30 kg\n",
    "altura_g3 = np.random.normal(120, 15, 100)\n",
    "peso_g3 = np.random.normal(30, 10, 100)\n",
    "\n",
    "alturas = np.concatenate([altura_g1, altura_g2, altura_g3])\n",
    "pesos = np.concatenate([peso_g1, peso_g2, peso_g3])\n",
    "grupos = ['g_1']*100 + ['g_2']*100 + ['g_3']*100\n",
    "\n",
    "# Creating a DataFrame\n",
    "df = pd.DataFrame({\n",
    "    'altura': alturas,\n",
    "    'peso': pesos,\n",
    "    'grupo': grupos\n",
    "})\n",
    "\n",
    "df.head()"
   ]
  },
  {
   "cell_type": "markdown",
   "metadata": {},
   "source": [
    "Vamos a comprobar qué aspecto tienen nuestros datos."
   ]
  },
  {
   "cell_type": "code",
   "execution_count": null,
   "metadata": {},
   "outputs": [],
   "source": [
    "fig = px.scatter(df, x='altura', y='peso', title='Altura vs altura de familiares', hover_name='grupo', color=\"grupo\", height=700, width=800)\n",
    "fig.show()"
   ]
  },
  {
   "cell_type": "markdown",
   "metadata": {},
   "source": [
    "Ahora vamos a crear una función que calcule la inercia de cada K-means desde K = 1 hasta k = 10 (por ejemplo)."
   ]
  },
  {
   "cell_type": "code",
   "execution_count": null,
   "metadata": {},
   "outputs": [],
   "source": [
    "import plotly.graph_objects as go\n",
    "def elbow_method(data, max_clusters=10):\n",
    "    inercias = []\n",
    "\n",
    "    for i in range(1, max_clusters + 1):\n",
    "        kmeans = KMeans(n_clusters=i, init='k-means++', max_iter=300, n_init=10, random_state=42)\n",
    "        kmeans.fit(data)\n",
    "        inercias.append(kmeans.inertia_)\n",
    "\n",
    "    fig = go.Figure()\n",
    "    fig.add_trace(go.Scatter(x=list(range(1, 11)), y=inercias, mode='lines+markers', name='inercias'))\n",
    "    fig.update_layout(title='Método del codo para elegir el K optimo',\n",
    "                    xaxis_title='Número de clusters',\n",
    "                    yaxis_title='Inercias',\n",
    "                    xaxis=dict(tickmode='linear', tick0=1, dtick=1))\n",
    "    fig.show()"
   ]
  },
  {
   "cell_type": "code",
   "execution_count": null,
   "metadata": {},
   "outputs": [],
   "source": [
    "elbow_method(df[['altura', 'peso']], max_clusters=10)"
   ]
  },
  {
   "cell_type": "markdown",
   "metadata": {},
   "source": [
    "En este caso, aún sin saber que los datos originales se agrupan en 3 clusters, el método del codo nos daría un K optimo de 3.\n",
    "\n",
    "P.d. Podría ser una buena duda si el K optimo es 2, 3 o 4, pero eso lo dejo para que lo pienses tú :D"
   ]
  }
 ],
 "metadata": {
  "kernelspec": {
   "display_name": "garage_data_pills",
   "language": "python",
   "name": "python3"
  },
  "language_info": {
   "codemirror_mode": {
    "name": "ipython",
    "version": 3
   },
   "file_extension": ".py",
   "mimetype": "text/x-python",
   "name": "python",
   "nbconvert_exporter": "python",
   "pygments_lexer": "ipython3",
   "version": "3.11.5"
  }
 },
 "nbformat": 4,
 "nbformat_minor": 2
}
