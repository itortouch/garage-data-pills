{
 "cells": [
  {
   "cell_type": "code",
   "execution_count": null,
   "metadata": {},
   "outputs": [],
   "source": [
    "import pandas as pd\n",
    "pd.set_option('display.max_columns', None)"
   ]
  },
  {
   "cell_type": "code",
   "execution_count": null,
   "metadata": {},
   "outputs": [],
   "source": [
    "# Dataset: https://www.kaggle.com/datasets/teamincribo/credit-card-fraud\n",
    "ccf_df = pd.read_csv(\"../data/credit_card_fraud.csv\")"
   ]
  },
  {
   "cell_type": "code",
   "execution_count": null,
   "metadata": {},
   "outputs": [],
   "source": [
    "ccf_df.info()"
   ]
  },
  {
   "cell_type": "code",
   "execution_count": null,
   "metadata": {},
   "outputs": [],
   "source": [
    "ccf_df = pd.concat([ccf_df]*100).reset_index(drop=True)"
   ]
  },
  {
   "cell_type": "code",
   "execution_count": null,
   "metadata": {},
   "outputs": [],
   "source": [
    "ccf_df[\"Card Type\"].unique()"
   ]
  },
  {
   "cell_type": "code",
   "execution_count": null,
   "metadata": {},
   "outputs": [],
   "source": [
    "ccf_df[\"Transaction Currency\"].unique()"
   ]
  },
  {
   "cell_type": "code",
   "execution_count": null,
   "metadata": {},
   "outputs": [],
   "source": [
    "ccf_df.head()"
   ]
  },
  {
   "cell_type": "markdown",
   "metadata": {},
   "source": [
    "# Caso de estudio\n",
    "Nos piden sacar un informe con la cantidad de cada transacción quitandole las comisiones correspondientes a la tarjeta de crédito, las correspondientes a cambio de moneda y finalmente queremos expresar el resultado en Euros. A esta cantidad la llamaremos transacción neta. Para ello nos proporcionan los siguientes datos:\n",
    "\n",
    "- Comisiones según la tarjeta:\n",
    "    - MasterCard = 2%\n",
    "    - Visa = 3 %\n",
    "    - American Express = 5%\n",
    "- Comisión por pago en moneda extranjera:\n",
    "    - INR = 1%\n",
    "    - USD = 0.5 %\n",
    "- Tasa conversión a Euros:\n",
    "    - INR/EUR = 0.011\n",
    "    - USD/EUR = 0.95"
   ]
  },
  {
   "cell_type": "markdown",
   "metadata": {},
   "source": [
    "## Resolución iterando el dataframe"
   ]
  },
  {
   "cell_type": "code",
   "execution_count": null,
   "metadata": {},
   "outputs": [],
   "source": [
    "for index, row in ccf_df.iterrows():\n",
    "    tarjeta = row[\"Card Type\"]\n",
    "    moneda = row[\"Transaction Currency\"]\n",
    "    if tarjeta == \"MasterCard\":\n",
    "        comision_tarjeta = 0.02\n",
    "    elif tarjeta == \"Visa\":\n",
    "        comision_tarjeta = 0.03\n",
    "    elif tarjeta == \"American Express\":\n",
    "        comision_tarjeta = 0.05\n",
    "    if moneda == \"INR\":\n",
    "        comision_moneda = 0.01\n",
    "        conversion_moneda = 0.011\n",
    "    elif moneda == \"USD\":\n",
    "        comision_moneda = 0.005\n",
    "        conversion_moneda = 0.95\n",
    "    elif moneda == \"EUR\":\n",
    "        comision_moneda = 0\n",
    "        conversion_moneda = 1\n",
    "    ccf_df.loc[index, \"transaccion_neta\"] = row[\"Transaction Amount\"] * (1-comision_tarjeta-comision_moneda) * conversion_moneda"
   ]
  },
  {
   "cell_type": "code",
   "execution_count": null,
   "metadata": {},
   "outputs": [],
   "source": [
    "ccf_df[\"transaccion_neta\"].head()"
   ]
  },
  {
   "cell_type": "code",
   "execution_count": null,
   "metadata": {},
   "outputs": [],
   "source": [
    "ccf_df = ccf_df.drop(columns={\"transaccion_neta\"})"
   ]
  },
  {
   "cell_type": "markdown",
   "metadata": {},
   "source": [
    "## Usando Apply"
   ]
  },
  {
   "cell_type": "code",
   "execution_count": null,
   "metadata": {},
   "outputs": [],
   "source": [
    "def calcular_transaccion_neta(transaction_amount, tarjeta, moneda):\n",
    "    if tarjeta == \"MasterCard\":\n",
    "        comision_tarjeta = 0.02\n",
    "    elif tarjeta == \"Visa\":\n",
    "        comision_tarjeta = 0.03\n",
    "    elif tarjeta == \"American Express\":\n",
    "        comision_tarjeta = 0.05\n",
    "    if moneda == \"INR\":\n",
    "        comision_moneda = 0.01\n",
    "        conversion_moneda = 0.011\n",
    "    elif moneda == \"USD\":\n",
    "        comision_moneda = 0.005\n",
    "        conversion_moneda = 0.95\n",
    "    elif moneda == \"EUR\":\n",
    "        comision_moneda = 0\n",
    "        conversion_moneda = 1\n",
    "    return transaction_amount * (1-comision_tarjeta-comision_moneda) * conversion_moneda"
   ]
  },
  {
   "cell_type": "code",
   "execution_count": null,
   "metadata": {},
   "outputs": [],
   "source": [
    "ccf_df.head()"
   ]
  },
  {
   "cell_type": "code",
   "execution_count": null,
   "metadata": {},
   "outputs": [],
   "source": [
    "%%timeit\n",
    "ccf_df[\"transaccion_neta\"] = ccf_df.apply(lambda row: calcular_transaccion_neta(row[\"Transaction Amount\"], row[\"Card Type\"], row[\"Transaction Currency\"]), axis=1)"
   ]
  },
  {
   "cell_type": "code",
   "execution_count": null,
   "metadata": {},
   "outputs": [],
   "source": [
    "ccf_df[\"transaccion_neta\"].head()"
   ]
  },
  {
   "cell_type": "code",
   "execution_count": null,
   "metadata": {},
   "outputs": [],
   "source": [
    "ccf_df = ccf_df.drop(columns={\"transaccion_neta\"})"
   ]
  },
  {
   "cell_type": "markdown",
   "metadata": {},
   "source": [
    "## Operar vectorialmente"
   ]
  },
  {
   "cell_type": "markdown",
   "metadata": {},
   "source": [
    "### Generar columnas con los valores de comisión y conversión (MAP IT!)"
   ]
  },
  {
   "cell_type": "code",
   "execution_count": null,
   "metadata": {},
   "outputs": [],
   "source": [
    "comisiones_tarjeta = {\"MasterCard\": 0.02, \"Visa\": 0.03, \"American Express\": 0.05}\n",
    "comisiones_moneda = {\"INR\": 0.01, \"USD\": 0.005, \"EUR\": 0}\n",
    "conversiones_moneda = {\"INR\": 0.011, \"USD\": 0.95, \"EUR\": 1}"
   ]
  },
  {
   "cell_type": "code",
   "execution_count": null,
   "metadata": {},
   "outputs": [],
   "source": [
    "ccf_df[\"comisiones_tarjeta\"] = ccf_df[\"Card Type\"].map(comisiones_tarjeta)\n",
    "ccf_df[\"comisiones_moneda\"] = ccf_df[\"Transaction Currency\"].map(comisiones_moneda)\n",
    "ccf_df[\"conversiones_moneda\"] = ccf_df[\"Transaction Currency\"].map(conversiones_moneda)"
   ]
  },
  {
   "cell_type": "code",
   "execution_count": null,
   "metadata": {},
   "outputs": [],
   "source": [
    "ccf_df.head()"
   ]
  },
  {
   "cell_type": "markdown",
   "metadata": {},
   "source": [
    "### Operadores matemáticos directamente"
   ]
  },
  {
   "cell_type": "code",
   "execution_count": null,
   "metadata": {},
   "outputs": [],
   "source": [
    "%%timeit\n",
    "ccf_df[\"transaccion_neta\"] = ccf_df[\"Transaction Amount\"] * (1 - ccf_df[\"comisiones_tarjeta\"] - ccf_df[\"comisiones_moneda\"]) * ccf_df[\"conversiones_moneda\"]"
   ]
  },
  {
   "cell_type": "code",
   "execution_count": null,
   "metadata": {},
   "outputs": [],
   "source": [
    "ccf_df[\"transaccion_neta\"].head()"
   ]
  },
  {
   "cell_type": "code",
   "execution_count": null,
   "metadata": {},
   "outputs": [],
   "source": [
    "ccf_df = ccf_df.drop(columns={\"transaccion_neta\"})"
   ]
  },
  {
   "cell_type": "markdown",
   "metadata": {},
   "source": [
    "### Todavía más rápido directamente con Numpy"
   ]
  },
  {
   "cell_type": "code",
   "execution_count": null,
   "metadata": {},
   "outputs": [],
   "source": [
    "%%timeit\n",
    "ccf_df[\"transaccion_neta\"] = ccf_df[\"Transaction Amount\"].to_numpy() * (1 - ccf_df[\"comisiones_tarjeta\"].to_numpy() - ccf_df[\"comisiones_moneda\"].to_numpy()) * ccf_df[\"conversiones_moneda\"].to_numpy()"
   ]
  },
  {
   "cell_type": "code",
   "execution_count": null,
   "metadata": {},
   "outputs": [],
   "source": [
    "ccf_df = ccf_df.drop(columns={\"transaccion_neta\"})"
   ]
  },
  {
   "cell_type": "markdown",
   "metadata": {},
   "source": [
    "# Operaciones ya existentes en pandas o numpy"
   ]
  },
  {
   "cell_type": "code",
   "execution_count": null,
   "metadata": {},
   "outputs": [],
   "source": [
    "%%timeit\n",
    "# min max normalizer\n",
    "(ccf_df[\"Transaction Amount\"] - ccf_df[\"Transaction Amount\"].min()) / (ccf_df[\"Transaction Amount\"].max() - ccf_df[\"Transaction Amount\"].min())"
   ]
  },
  {
   "cell_type": "code",
   "execution_count": null,
   "metadata": {},
   "outputs": [],
   "source": [
    "%%timeit\n",
    "ccf_df[\"Transaction Amount\"].mean()"
   ]
  },
  {
   "cell_type": "code",
   "execution_count": null,
   "metadata": {},
   "outputs": [],
   "source": [
    "%%timeit\n",
    "ccf_df[\"Transaction Amount\"].to_numpy().mean()"
   ]
  },
  {
   "cell_type": "markdown",
   "metadata": {},
   "source": [
    "# Strings"
   ]
  },
  {
   "cell_type": "markdown",
   "metadata": {},
   "source": [
    "## Cuidado con las funciones de strings!"
   ]
  },
  {
   "cell_type": "code",
   "execution_count": null,
   "metadata": {},
   "outputs": [],
   "source": [
    "ccf_df[\"Card Expiration Date\"].head()"
   ]
  },
  {
   "cell_type": "code",
   "execution_count": null,
   "metadata": {},
   "outputs": [],
   "source": [
    "ccf_df[\"Card Expiration Date\"][0].split(\"/\")"
   ]
  },
  {
   "cell_type": "code",
   "execution_count": null,
   "metadata": {},
   "outputs": [],
   "source": [
    "%%timeit\n",
    "ccf_df[\"Card Expiration Date\"].apply(lambda x: x.split(\"/\"))"
   ]
  },
  {
   "cell_type": "code",
   "execution_count": null,
   "metadata": {},
   "outputs": [],
   "source": [
    "%%timeit\n",
    "ccf_df[\"Card Expiration Date\"].str.split(\"/\")"
   ]
  },
  {
   "cell_type": "code",
   "execution_count": null,
   "metadata": {},
   "outputs": [],
   "source": [
    "%%timeit\n",
    "[value.split('/') for value in ccf_df[\"Card Expiration Date\"].tolist()]"
   ]
  },
  {
   "cell_type": "code",
   "execution_count": null,
   "metadata": {},
   "outputs": [],
   "source": []
  }
 ],
 "metadata": {
  "kernelspec": {
   "display_name": "garage_data_pills",
   "language": "python",
   "name": "python3"
  },
  "language_info": {
   "codemirror_mode": {
    "name": "ipython",
    "version": 3
   },
   "file_extension": ".py",
   "mimetype": "text/x-python",
   "name": "python",
   "nbconvert_exporter": "python",
   "pygments_lexer": "ipython3",
   "version": "3.11.5"
  }
 },
 "nbformat": 4,
 "nbformat_minor": 2
}
