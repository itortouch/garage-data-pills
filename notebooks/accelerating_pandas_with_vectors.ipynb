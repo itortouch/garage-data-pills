{
 "cells": [
  {
   "cell_type": "code",
   "execution_count": 1,
   "metadata": {},
   "outputs": [],
   "source": [
    "import numpy as np\n",
    "import pandas as pd"
   ]
  },
  {
   "cell_type": "code",
   "execution_count": 22,
   "metadata": {},
   "outputs": [],
   "source": [
    "ccf_df = pd.read_csv(\"../data/credit_card_fraud.csv\")"
   ]
  },
  {
   "cell_type": "code",
   "execution_count": 23,
   "metadata": {},
   "outputs": [],
   "source": [
    "ccf_df = pd.concat([ccf_df]*10).reset_index()"
   ]
  },
  {
   "cell_type": "code",
   "execution_count": 24,
   "metadata": {},
   "outputs": [
    {
     "name": "stdout",
     "output_type": "stream",
     "text": [
      "<class 'pandas.core.frame.DataFrame'>\n",
      "RangeIndex: 80000 entries, 0 to 79999\n",
      "Data columns (total 21 columns):\n",
      " #   Column                                   Non-Null Count  Dtype  \n",
      "---  ------                                   --------------  -----  \n",
      " 0   index                                    80000 non-null  int64  \n",
      " 1   Transaction Date and Time                80000 non-null  object \n",
      " 2   Transaction Amount                       80000 non-null  float64\n",
      " 3   Cardholder Name                          80000 non-null  object \n",
      " 4   Card Number (Hashed or Encrypted)        80000 non-null  object \n",
      " 5   Merchant Name                            80000 non-null  object \n",
      " 6   Merchant Category Code (MCC)             80000 non-null  int64  \n",
      " 7   Transaction Location (City or ZIP Code)  80000 non-null  object \n",
      " 8   Transaction Currency                     80000 non-null  object \n",
      " 9   Card Type                                80000 non-null  object \n",
      " 10  Card Expiration Date                     80000 non-null  object \n",
      " 11  CVV Code (Hashed or Encrypted)           80000 non-null  object \n",
      " 12  Transaction Response Code                80000 non-null  int64  \n",
      " 13  Transaction ID                           80000 non-null  object \n",
      " 14  Fraud Flag or Label                      80000 non-null  int64  \n",
      " 15  Previous Transactions                    59570 non-null  object \n",
      " 16  Transaction Source                       80000 non-null  object \n",
      " 17  IP Address                               80000 non-null  object \n",
      " 18  Device Information                       80000 non-null  object \n",
      " 19  User Account Information                 39900 non-null  object \n",
      " 20  Transaction Notes                        80000 non-null  object \n",
      "dtypes: float64(1), int64(4), object(16)\n",
      "memory usage: 12.8+ MB\n"
     ]
    }
   ],
   "source": [
    "ccf_df.info()"
   ]
  },
  {
   "cell_type": "code",
   "execution_count": 25,
   "metadata": {},
   "outputs": [
    {
     "data": {
      "text/html": [
       "<div>\n",
       "<style scoped>\n",
       "    .dataframe tbody tr th:only-of-type {\n",
       "        vertical-align: middle;\n",
       "    }\n",
       "\n",
       "    .dataframe tbody tr th {\n",
       "        vertical-align: top;\n",
       "    }\n",
       "\n",
       "    .dataframe thead th {\n",
       "        text-align: right;\n",
       "    }\n",
       "</style>\n",
       "<table border=\"1\" class=\"dataframe\">\n",
       "  <thead>\n",
       "    <tr style=\"text-align: right;\">\n",
       "      <th></th>\n",
       "      <th>index</th>\n",
       "      <th>Transaction Date and Time</th>\n",
       "      <th>Transaction Amount</th>\n",
       "      <th>Cardholder Name</th>\n",
       "      <th>Card Number (Hashed or Encrypted)</th>\n",
       "      <th>Merchant Name</th>\n",
       "      <th>Merchant Category Code (MCC)</th>\n",
       "      <th>Transaction Location (City or ZIP Code)</th>\n",
       "      <th>Transaction Currency</th>\n",
       "      <th>Card Type</th>\n",
       "      <th>...</th>\n",
       "      <th>CVV Code (Hashed or Encrypted)</th>\n",
       "      <th>Transaction Response Code</th>\n",
       "      <th>Transaction ID</th>\n",
       "      <th>Fraud Flag or Label</th>\n",
       "      <th>Previous Transactions</th>\n",
       "      <th>Transaction Source</th>\n",
       "      <th>IP Address</th>\n",
       "      <th>Device Information</th>\n",
       "      <th>User Account Information</th>\n",
       "      <th>Transaction Notes</th>\n",
       "    </tr>\n",
       "  </thead>\n",
       "  <tbody>\n",
       "    <tr>\n",
       "      <th>0</th>\n",
       "      <td>0</td>\n",
       "      <td>2022-09-24 13:54:27</td>\n",
       "      <td>285.88</td>\n",
       "      <td>Shray Soman</td>\n",
       "      <td>daca51bffe0fc4eaaa7c430917f94b75fd893712492254...</td>\n",
       "      <td>Rajagopalan, Ghose and Kant</td>\n",
       "      <td>3590</td>\n",
       "      <td>Khammam</td>\n",
       "      <td>INR</td>\n",
       "      <td>MasterCard</td>\n",
       "      <td>...</td>\n",
       "      <td>01299ac65733b5a3d774265fbfe8396b8611e5e3321855...</td>\n",
       "      <td>5</td>\n",
       "      <td>b7f69cbc-a03d-41f8-adca-75920b0242c3</td>\n",
       "      <td>1</td>\n",
       "      <td>NaN</td>\n",
       "      <td>Online</td>\n",
       "      <td>18.106.240.6</td>\n",
       "      <td>Tablet</td>\n",
       "      <td>NaN</td>\n",
       "      <td>Consequatur corporis minima ad vero deserunt n...</td>\n",
       "    </tr>\n",
       "    <tr>\n",
       "      <th>1</th>\n",
       "      <td>1</td>\n",
       "      <td>2020-07-24 11:20:13</td>\n",
       "      <td>1777.32</td>\n",
       "      <td>Lakshit Bakshi</td>\n",
       "      <td>d5366dd9be3a0266c0252baceaa6332210ed4dbd0ef252...</td>\n",
       "      <td>Sule PLC</td>\n",
       "      <td>7277</td>\n",
       "      <td>Vasai-Virar</td>\n",
       "      <td>EUR</td>\n",
       "      <td>American Express</td>\n",
       "      <td>...</td>\n",
       "      <td>ad8fa913d25b3970c6efa8ca504da8ba670ce2a9cf012d...</td>\n",
       "      <td>12</td>\n",
       "      <td>ad53cc8e-8412-422e-8cad-4176daac8387</td>\n",
       "      <td>1</td>\n",
       "      <td>NaN</td>\n",
       "      <td>Online</td>\n",
       "      <td>212.48.185.128</td>\n",
       "      <td>Mobile</td>\n",
       "      <td>jloyal</td>\n",
       "      <td>Dolore repellendus odio deleniti. Eaque quibus...</td>\n",
       "    </tr>\n",
       "    <tr>\n",
       "      <th>2</th>\n",
       "      <td>2</td>\n",
       "      <td>2023-03-18 01:05:36</td>\n",
       "      <td>3939.01</td>\n",
       "      <td>Riya Bobal</td>\n",
       "      <td>4737a6384aa1c3c31f7768b86633d6a8401dd6ab4a8ff1...</td>\n",
       "      <td>Badal PLC</td>\n",
       "      <td>9297</td>\n",
       "      <td>Nangloi Jat</td>\n",
       "      <td>USD</td>\n",
       "      <td>Visa</td>\n",
       "      <td>...</td>\n",
       "      <td>eb3be230bbd2844b1f5d8f2e4fab9ffba8ab22cfeeb69c...</td>\n",
       "      <td>5</td>\n",
       "      <td>f09cecd6-0d74-4551-8089-a31d64e6b9c5</td>\n",
       "      <td>1</td>\n",
       "      <td>3 or more</td>\n",
       "      <td>In-Person</td>\n",
       "      <td>17.190.112.46</td>\n",
       "      <td>Mobile</td>\n",
       "      <td>NaN</td>\n",
       "      <td>Unde beatae perspiciatis sapiente. Voluptates ...</td>\n",
       "    </tr>\n",
       "    <tr>\n",
       "      <th>3</th>\n",
       "      <td>3</td>\n",
       "      <td>2021-01-07 21:53:04</td>\n",
       "      <td>376.44</td>\n",
       "      <td>Mohanlal Balakrishnan</td>\n",
       "      <td>4721806eed8f2663bb597ff13e79a294de318358fbb54b...</td>\n",
       "      <td>Konda-Sodhi</td>\n",
       "      <td>5686</td>\n",
       "      <td>Ramagundam</td>\n",
       "      <td>USD</td>\n",
       "      <td>Visa</td>\n",
       "      <td>...</td>\n",
       "      <td>891d46993a36d78392247c642138cede01d9841daab1d9...</td>\n",
       "      <td>5</td>\n",
       "      <td>b208ae0b-4c4f-428f-b6b9-5360b288b947</td>\n",
       "      <td>0</td>\n",
       "      <td>2</td>\n",
       "      <td>In-Person</td>\n",
       "      <td>153.136.24.104</td>\n",
       "      <td>Tablet</td>\n",
       "      <td>NaN</td>\n",
       "      <td>Cupiditate repellendus necessitatibus quo occa...</td>\n",
       "    </tr>\n",
       "    <tr>\n",
       "      <th>4</th>\n",
       "      <td>4</td>\n",
       "      <td>2021-12-16 06:22:24</td>\n",
       "      <td>1687.33</td>\n",
       "      <td>Mannat Rout</td>\n",
       "      <td>9deacc3a9efd6e382826d400620aca5f23ed94327578e5...</td>\n",
       "      <td>Dua Ltd</td>\n",
       "      <td>2940</td>\n",
       "      <td>Adoni</td>\n",
       "      <td>INR</td>\n",
       "      <td>MasterCard</td>\n",
       "      <td>...</td>\n",
       "      <td>48a1a756f2d83f1dc57bbf14052b70a6f40d0fceed6662...</td>\n",
       "      <td>5</td>\n",
       "      <td>6b4e4e43-5b73-4906-9973-299a1b2a5e71</td>\n",
       "      <td>1</td>\n",
       "      <td>2</td>\n",
       "      <td>Online</td>\n",
       "      <td>196.153.28.131</td>\n",
       "      <td>Desktop</td>\n",
       "      <td>NaN</td>\n",
       "      <td>Molestias assumenda consectetur itaque veritat...</td>\n",
       "    </tr>\n",
       "  </tbody>\n",
       "</table>\n",
       "<p>5 rows × 21 columns</p>\n",
       "</div>"
      ],
      "text/plain": [
       "   index Transaction Date and Time  Transaction Amount        Cardholder Name  \\\n",
       "0      0       2022-09-24 13:54:27              285.88            Shray Soman   \n",
       "1      1       2020-07-24 11:20:13             1777.32         Lakshit Bakshi   \n",
       "2      2       2023-03-18 01:05:36             3939.01             Riya Bobal   \n",
       "3      3       2021-01-07 21:53:04              376.44  Mohanlal Balakrishnan   \n",
       "4      4       2021-12-16 06:22:24             1687.33            Mannat Rout   \n",
       "\n",
       "                   Card Number (Hashed or Encrypted)  \\\n",
       "0  daca51bffe0fc4eaaa7c430917f94b75fd893712492254...   \n",
       "1  d5366dd9be3a0266c0252baceaa6332210ed4dbd0ef252...   \n",
       "2  4737a6384aa1c3c31f7768b86633d6a8401dd6ab4a8ff1...   \n",
       "3  4721806eed8f2663bb597ff13e79a294de318358fbb54b...   \n",
       "4  9deacc3a9efd6e382826d400620aca5f23ed94327578e5...   \n",
       "\n",
       "                 Merchant Name  Merchant Category Code (MCC)  \\\n",
       "0  Rajagopalan, Ghose and Kant                          3590   \n",
       "1                     Sule PLC                          7277   \n",
       "2                    Badal PLC                          9297   \n",
       "3                  Konda-Sodhi                          5686   \n",
       "4                      Dua Ltd                          2940   \n",
       "\n",
       "  Transaction Location (City or ZIP Code) Transaction Currency  \\\n",
       "0                                 Khammam                  INR   \n",
       "1                             Vasai-Virar                  EUR   \n",
       "2                             Nangloi Jat                  USD   \n",
       "3                              Ramagundam                  USD   \n",
       "4                                   Adoni                  INR   \n",
       "\n",
       "          Card Type  ...                     CVV Code (Hashed or Encrypted)  \\\n",
       "0        MasterCard  ...  01299ac65733b5a3d774265fbfe8396b8611e5e3321855...   \n",
       "1  American Express  ...  ad8fa913d25b3970c6efa8ca504da8ba670ce2a9cf012d...   \n",
       "2              Visa  ...  eb3be230bbd2844b1f5d8f2e4fab9ffba8ab22cfeeb69c...   \n",
       "3              Visa  ...  891d46993a36d78392247c642138cede01d9841daab1d9...   \n",
       "4        MasterCard  ...  48a1a756f2d83f1dc57bbf14052b70a6f40d0fceed6662...   \n",
       "\n",
       "  Transaction Response Code                        Transaction ID  \\\n",
       "0                         5  b7f69cbc-a03d-41f8-adca-75920b0242c3   \n",
       "1                        12  ad53cc8e-8412-422e-8cad-4176daac8387   \n",
       "2                         5  f09cecd6-0d74-4551-8089-a31d64e6b9c5   \n",
       "3                         5  b208ae0b-4c4f-428f-b6b9-5360b288b947   \n",
       "4                         5  6b4e4e43-5b73-4906-9973-299a1b2a5e71   \n",
       "\n",
       "  Fraud Flag or Label  Previous Transactions Transaction Source  \\\n",
       "0                   1                    NaN             Online   \n",
       "1                   1                    NaN             Online   \n",
       "2                   1              3 or more          In-Person   \n",
       "3                   0                      2          In-Person   \n",
       "4                   1                      2             Online   \n",
       "\n",
       "       IP Address Device Information User Account Information  \\\n",
       "0    18.106.240.6             Tablet                      NaN   \n",
       "1  212.48.185.128             Mobile                   jloyal   \n",
       "2   17.190.112.46             Mobile                      NaN   \n",
       "3  153.136.24.104             Tablet                      NaN   \n",
       "4  196.153.28.131            Desktop                      NaN   \n",
       "\n",
       "                                   Transaction Notes  \n",
       "0  Consequatur corporis minima ad vero deserunt n...  \n",
       "1  Dolore repellendus odio deleniti. Eaque quibus...  \n",
       "2  Unde beatae perspiciatis sapiente. Voluptates ...  \n",
       "3  Cupiditate repellendus necessitatibus quo occa...  \n",
       "4  Molestias assumenda consectetur itaque veritat...  \n",
       "\n",
       "[5 rows x 21 columns]"
      ]
     },
     "execution_count": 25,
     "metadata": {},
     "output_type": "execute_result"
    }
   ],
   "source": [
    "ccf_df.head()"
   ]
  },
  {
   "cell_type": "code",
   "execution_count": 26,
   "metadata": {},
   "outputs": [
    {
     "data": {
      "text/plain": [
       "['04', '29']"
      ]
     },
     "execution_count": 26,
     "metadata": {},
     "output_type": "execute_result"
    }
   ],
   "source": [
    "ccf_df[\"Card Expiration Date\"][0].split(\"/\")"
   ]
  },
  {
   "cell_type": "code",
   "execution_count": 27,
   "metadata": {},
   "outputs": [
    {
     "name": "stdout",
     "output_type": "stream",
     "text": [
      "8.79 ms ± 50.6 µs per loop (mean ± std. dev. of 7 runs, 100 loops each)\n"
     ]
    }
   ],
   "source": [
    "%%timeit\n",
    "ccf_df[\"Card Expiration Date\"].apply(lambda x: x.split(\"/\"))"
   ]
  },
  {
   "cell_type": "code",
   "execution_count": 28,
   "metadata": {},
   "outputs": [
    {
     "name": "stdout",
     "output_type": "stream",
     "text": [
      "10.4 ms ± 93 µs per loop (mean ± std. dev. of 7 runs, 100 loops each)\n"
     ]
    }
   ],
   "source": [
    "%%timeit\n",
    "ccf_df[\"Card Expiration Date\"].str.split(\"/\")"
   ]
  },
  {
   "cell_type": "code",
   "execution_count": 29,
   "metadata": {},
   "outputs": [
    {
     "name": "stdout",
     "output_type": "stream",
     "text": [
      "5.52 ms ± 28.1 µs per loop (mean ± std. dev. of 7 runs, 100 loops each)\n"
     ]
    }
   ],
   "source": [
    "%%timeit\n",
    "[value.split('/') for value in ccf_df[\"Card Expiration Date\"].tolist()]"
   ]
  },
  {
   "cell_type": "code",
   "execution_count": null,
   "metadata": {},
   "outputs": [],
   "source": []
  }
 ],
 "metadata": {
  "kernelspec": {
   "display_name": "garage_data_pills",
   "language": "python",
   "name": "python3"
  },
  "language_info": {
   "codemirror_mode": {
    "name": "ipython",
    "version": 3
   },
   "file_extension": ".py",
   "mimetype": "text/x-python",
   "name": "python",
   "nbconvert_exporter": "python",
   "pygments_lexer": "ipython3",
   "version": "3.11.5"
  }
 },
 "nbformat": 4,
 "nbformat_minor": 2
}
